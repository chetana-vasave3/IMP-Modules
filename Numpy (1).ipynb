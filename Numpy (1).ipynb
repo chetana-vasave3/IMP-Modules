{
 "cells": [
  {
   "cell_type": "markdown",
   "id": "950cd714",
   "metadata": {},
   "source": [
    "### Numpy"
   ]
  },
  {
   "cell_type": "markdown",
   "id": "5842b8c6",
   "metadata": {},
   "source": [
    "- Aarry from numpy"
   ]
  },
  {
   "cell_type": "markdown",
   "id": "e5a13d1f",
   "metadata": {},
   "source": [
    "### Array"
   ]
  },
  {
   "cell_type": "markdown",
   "id": "e70bbc3c",
   "metadata": {},
   "source": [
    "- An Array is a collection of homogenous data-types. (String data type)\n",
    "- 4 byte\n",
    "- Array can store data very compactly and more effcient for storing large amount of data.\n",
    "- Array are great for numerical operations, list cannot directly handle math operations\n",
    "- As the array size increases, numpy array get around 30 times faster than python list.\n",
    "- Because the numpy array is denely packed in memory due to homogeous type, also frees the memory faster.\n",
    "- you have to explicity import nupy to use array"
   ]
  },
  {
   "cell_type": "markdown",
   "id": "e009c65d",
   "metadata": {},
   "source": [
    "### List"
   ]
  },
  {
   "cell_type": "markdown",
   "id": "c0e1e8a8",
   "metadata": {},
   "source": [
    "- wheras list is a collection of hetrogeneous data-types\n",
    "- 14 byte\n",
    "- List less effcient than array for storing large amount of data.\n",
    "- its is python data type"
   ]
  },
  {
   "cell_type": "code",
   "execution_count": 5,
   "id": "6b9ee940",
   "metadata": {},
   "outputs": [],
   "source": [
    "import numpy as np"
   ]
  },
  {
   "cell_type": "code",
   "execution_count": 8,
   "id": "ca4efda0",
   "metadata": {},
   "outputs": [
    {
     "name": "stdout",
     "output_type": "stream",
     "text": [
      "['ram', 123, 50.5, (7+2j)]\n"
     ]
    },
    {
     "data": {
      "text/plain": [
       "list"
      ]
     },
     "execution_count": 8,
     "metadata": {},
     "output_type": "execute_result"
    }
   ],
   "source": [
    "my_list=[\"ram\",123,50.5,7+2j]\n",
    "print(my_list)\n",
    "type(my_list)\n",
    "#whereas list is a collction of hetrogeneous data-types"
   ]
  },
  {
   "cell_type": "code",
   "execution_count": 9,
   "id": "b099733e",
   "metadata": {},
   "outputs": [
    {
     "name": "stdout",
     "output_type": "stream",
     "text": [
      "['ram' '123' '50.5' '(7+2j)']\n"
     ]
    },
    {
     "data": {
      "text/plain": [
       "numpy.ndarray"
      ]
     },
     "execution_count": 9,
     "metadata": {},
     "output_type": "execute_result"
    }
   ],
   "source": [
    "my_array=np.array([\"ram\",123,50.5,7+2j])\n",
    "print(my_array)\n",
    "type(my_array)\n",
    "#An array is a collection of hetrogeneous data-types"
   ]
  },
  {
   "cell_type": "code",
   "execution_count": 10,
   "id": "87096496",
   "metadata": {},
   "outputs": [
    {
     "name": "stdout",
     "output_type": "stream",
     "text": [
      "[123.   50.5]\n"
     ]
    },
    {
     "data": {
      "text/plain": [
       "numpy.ndarray"
      ]
     },
     "execution_count": 10,
     "metadata": {},
     "output_type": "execute_result"
    }
   ],
   "source": [
    "my_array=np.array([123,50.5])\n",
    "print(my_array)\n",
    "type(my_array)"
   ]
  },
  {
   "cell_type": "markdown",
   "id": "74478c24",
   "metadata": {},
   "source": [
    "### string>complex>float>int"
   ]
  },
  {
   "cell_type": "markdown",
   "id": "07fc3242",
   "metadata": {},
   "source": [
    "#### Empty Numpy array"
   ]
  },
  {
   "cell_type": "code",
   "execution_count": 13,
   "id": "51119ad6",
   "metadata": {},
   "outputs": [],
   "source": [
    "import numpy as np"
   ]
  },
  {
   "cell_type": "code",
   "execution_count": 15,
   "id": "73e095ce",
   "metadata": {},
   "outputs": [
    {
     "data": {
      "text/plain": [
       "array([], dtype=float64)"
      ]
     },
     "execution_count": 15,
     "metadata": {},
     "output_type": "execute_result"
    }
   ],
   "source": [
    "a=np.array([])\n",
    "a"
   ]
  },
  {
   "cell_type": "code",
   "execution_count": 16,
   "id": "2475efc3",
   "metadata": {},
   "outputs": [
    {
     "name": "stdout",
     "output_type": "stream",
     "text": [
      "[[123.  50.]\n",
      " [  1.   2.]]\n"
     ]
    },
    {
     "data": {
      "text/plain": [
       "numpy.ndarray"
      ]
     },
     "execution_count": 16,
     "metadata": {},
     "output_type": "execute_result"
    }
   ],
   "source": [
    "my_array=np.array([[123,50.0],[1,2]])\n",
    "print(my_array)\n",
    "type(my_array)"
   ]
  },
  {
   "cell_type": "markdown",
   "id": "9161daae",
   "metadata": {},
   "source": [
    "### 1.ndim"
   ]
  },
  {
   "cell_type": "code",
   "execution_count": 17,
   "id": "7eea92f4",
   "metadata": {},
   "outputs": [
    {
     "data": {
      "text/plain": [
       "2"
      ]
     },
     "execution_count": 17,
     "metadata": {},
     "output_type": "execute_result"
    }
   ],
   "source": [
    "# to Check dimension\n",
    "my_array.ndim"
   ]
  },
  {
   "cell_type": "code",
   "execution_count": 19,
   "id": "b759c0ba",
   "metadata": {},
   "outputs": [
    {
     "name": "stdout",
     "output_type": "stream",
     "text": [
      "[ 1  2 34]\n",
      "the dim is: 1\n"
     ]
    }
   ],
   "source": [
    "a=np.array([1,2,34])\n",
    "print(a)\n",
    "print(\"the dim is:\",a.ndim)"
   ]
  },
  {
   "cell_type": "code",
   "execution_count": 23,
   "id": "3a50c409",
   "metadata": {},
   "outputs": [
    {
     "name": "stdout",
     "output_type": "stream",
     "text": [
      "[[[ 1  2 34]\n",
      "  [ 1  2  3]]]\n",
      "the dim is: 3\n"
     ]
    }
   ],
   "source": [
    "a=np.array([[[1,2,34],[1,2,3]]])\n",
    "print(a)\n",
    "print(\"the dim is:\",a.ndim)"
   ]
  },
  {
   "cell_type": "code",
   "execution_count": 24,
   "id": "88037a1a",
   "metadata": {},
   "outputs": [
    {
     "name": "stdout",
     "output_type": "stream",
     "text": [
      "[[[ 1  2 34]\n",
      "  [ 1  2  3]\n",
      "  [ 1  2  3]]]\n",
      "the dim is: 3\n"
     ]
    }
   ],
   "source": [
    "a=np.array([[[1,2,34],[1,2,3],[1,2,3]]])\n",
    "print(a)\n",
    "print(\"the dim is:\",a.ndim)"
   ]
  },
  {
   "cell_type": "code",
   "execution_count": null,
   "id": "9c7561ab",
   "metadata": {},
   "outputs": [],
   "source": [
    "Type Markdown and Latex:"
   ]
  },
  {
   "cell_type": "markdown",
   "id": "1113f2ba",
   "metadata": {},
   "source": [
    "### 2.dtype"
   ]
  },
  {
   "cell_type": "code",
   "execution_count": 27,
   "id": "f2a59f54",
   "metadata": {},
   "outputs": [
    {
     "name": "stdout",
     "output_type": "stream",
     "text": [
      "[['1' '2' '34']\n",
      " ['1' '2' '3']]\n",
      "the dim is: 2\n"
     ]
    }
   ],
   "source": [
    "a=np.array([[1,2,34],[1,2,3]],dtype=str)      #dtype:\n",
    "print(a)\n",
    "print(\"the dim is:\",a.ndim)"
   ]
  },
  {
   "cell_type": "code",
   "execution_count": 28,
   "id": "4350d3f5",
   "metadata": {},
   "outputs": [
    {
     "name": "stdout",
     "output_type": "stream",
     "text": [
      "[[ 1.  2. 34.]\n",
      " [ 1.  2.  3.]]\n",
      "the dim is: 2\n"
     ]
    }
   ],
   "source": [
    "a=np.array([[1,2,34],[1,2,3]],dtype=float)      \n",
    "print(a)\n",
    "print(\"the dim is:\",a.ndim)"
   ]
  },
  {
   "cell_type": "code",
   "execution_count": 29,
   "id": "e7e21535",
   "metadata": {},
   "outputs": [
    {
     "name": "stdout",
     "output_type": "stream",
     "text": [
      "[[ 1.+0.j  2.+0.j 34.+0.j]\n",
      " [ 1.+0.j  2.+0.j  3.+0.j]]\n",
      "the dim is: 2\n"
     ]
    }
   ],
   "source": [
    "a=np.array([[1,2,34],[1,2,3]],dtype=complex)     \n",
    "print(a)\n",
    "print(\"the dim is:\",a.ndim)"
   ]
  },
  {
   "cell_type": "code",
   "execution_count": 30,
   "id": "dd19ea7f",
   "metadata": {},
   "outputs": [
    {
     "name": "stdout",
     "output_type": "stream",
     "text": [
      "[[ 1  2 34]\n",
      " [ 1  2  3]]\n",
      "the dim is: 2\n"
     ]
    }
   ],
   "source": [
    "a=np.array([[1,2,34],[1,2,3]],dtype=int)      #dtype:\n",
    "print(a)\n",
    "print(\"the dim is:\",a.ndim)"
   ]
  },
  {
   "cell_type": "code",
   "execution_count": 34,
   "id": "8019373c",
   "metadata": {},
   "outputs": [
    {
     "name": "stdout",
     "output_type": "stream",
     "text": [
      "[[ 5.   2.  34.3]\n",
      " [ 1.   2.   3. ]]\n",
      "the dim is: 2\n"
     ]
    }
   ],
   "source": [
    "a=np.array([[5,2,34.3],[1,2,3]])\n",
    "print(a)\n",
    "print(\"the dim is:\",a.ndim)"
   ]
  },
  {
   "cell_type": "code",
   "execution_count": 36,
   "id": "aa7e8eec",
   "metadata": {},
   "outputs": [
    {
     "data": {
      "text/plain": [
       "dtype('float64')"
      ]
     },
     "execution_count": 36,
     "metadata": {},
     "output_type": "execute_result"
    }
   ],
   "source": [
    "a.dtype"
   ]
  },
  {
   "cell_type": "markdown",
   "id": "950ef0e0",
   "metadata": {},
   "source": [
    "### 3.itemsize"
   ]
  },
  {
   "cell_type": "code",
   "execution_count": 38,
   "id": "0096544b",
   "metadata": {},
   "outputs": [
    {
     "data": {
      "text/plain": [
       "8"
      ]
     },
     "execution_count": 38,
     "metadata": {},
     "output_type": "execute_result"
    }
   ],
   "source": [
    "a.itemsize"
   ]
  },
  {
   "cell_type": "markdown",
   "id": "ec65f484",
   "metadata": {},
   "source": [
    "### 4.shape"
   ]
  },
  {
   "cell_type": "code",
   "execution_count": 39,
   "id": "17f31cfd",
   "metadata": {},
   "outputs": [
    {
     "data": {
      "text/plain": [
       "(2, 3)"
      ]
     },
     "execution_count": 39,
     "metadata": {},
     "output_type": "execute_result"
    }
   ],
   "source": [
    "a.shape"
   ]
  },
  {
   "cell_type": "markdown",
   "id": "10b63974",
   "metadata": {},
   "source": [
    "### 5.size"
   ]
  },
  {
   "cell_type": "code",
   "execution_count": 40,
   "id": "36ad40c2",
   "metadata": {},
   "outputs": [
    {
     "data": {
      "text/plain": [
       "6"
      ]
     },
     "execution_count": 40,
     "metadata": {},
     "output_type": "execute_result"
    }
   ],
   "source": [
    "a.size"
   ]
  },
  {
   "cell_type": "markdown",
   "id": "db4f656b",
   "metadata": {},
   "source": [
    "### 6.data"
   ]
  },
  {
   "cell_type": "code",
   "execution_count": 41,
   "id": "11d69792",
   "metadata": {},
   "outputs": [
    {
     "data": {
      "text/plain": [
       "<memory at 0x00000201848885F0>"
      ]
     },
     "execution_count": 41,
     "metadata": {},
     "output_type": "execute_result"
    }
   ],
   "source": [
    "a.data"
   ]
  },
  {
   "cell_type": "markdown",
   "id": "1ec88461",
   "metadata": {},
   "source": [
    "### indexing and slicing"
   ]
  },
  {
   "cell_type": "code",
   "execution_count": 44,
   "id": "ec379bb6",
   "metadata": {},
   "outputs": [],
   "source": [
    "a=np.array([[5,2,34],[1,2,3]])"
   ]
  },
  {
   "cell_type": "code",
   "execution_count": 46,
   "id": "392dc71b",
   "metadata": {},
   "outputs": [
    {
     "data": {
      "text/plain": [
       "2"
      ]
     },
     "execution_count": 46,
     "metadata": {},
     "output_type": "execute_result"
    }
   ],
   "source": [
    "a.ndim"
   ]
  },
  {
   "cell_type": "code",
   "execution_count": 47,
   "id": "e6a8d456",
   "metadata": {},
   "outputs": [
    {
     "data": {
      "text/plain": [
       "5"
      ]
     },
     "execution_count": 47,
     "metadata": {},
     "output_type": "execute_result"
    }
   ],
   "source": [
    "a[0][0]"
   ]
  },
  {
   "cell_type": "code",
   "execution_count": 48,
   "id": "1cb3e669",
   "metadata": {},
   "outputs": [
    {
     "data": {
      "text/plain": [
       "34"
      ]
     },
     "execution_count": 48,
     "metadata": {},
     "output_type": "execute_result"
    }
   ],
   "source": [
    "a[0][2]"
   ]
  },
  {
   "cell_type": "code",
   "execution_count": 49,
   "id": "67832f96",
   "metadata": {},
   "outputs": [
    {
     "data": {
      "text/plain": [
       "1"
      ]
     },
     "execution_count": 49,
     "metadata": {},
     "output_type": "execute_result"
    }
   ],
   "source": [
    "a[1][0]"
   ]
  },
  {
   "cell_type": "code",
   "execution_count": 51,
   "id": "2d1b6246",
   "metadata": {},
   "outputs": [
    {
     "name": "stdout",
     "output_type": "stream",
     "text": [
      "[[[   1    2    3    4    5    6]\n",
      "  [  11   22   33   44   55   66]]\n",
      "\n",
      " [[ 111  222  333  444  555  666]\n",
      "  [1111 2222 3333 4444 5555 6666]]]\n"
     ]
    },
    {
     "data": {
      "text/plain": [
       "3"
      ]
     },
     "execution_count": 51,
     "metadata": {},
     "output_type": "execute_result"
    }
   ],
   "source": [
    "a=np.array([[[1,2,3,4,5,6],[11,22,33,44,55,66]],[[111,222,333,444,555,666],[1111,2222,3333,4444,5555,6666]]])\n",
    "print(a)\n",
    "a.ndim"
   ]
  },
  {
   "cell_type": "code",
   "execution_count": 52,
   "id": "c428b699",
   "metadata": {},
   "outputs": [
    {
     "data": {
      "text/plain": [
       "array([[ 1,  2,  3,  4,  5,  6],\n",
       "       [11, 22, 33, 44, 55, 66]])"
      ]
     },
     "execution_count": 52,
     "metadata": {},
     "output_type": "execute_result"
    }
   ],
   "source": [
    "a[0]"
   ]
  },
  {
   "cell_type": "code",
   "execution_count": 53,
   "id": "8936c1dc",
   "metadata": {},
   "outputs": [
    {
     "data": {
      "text/plain": [
       "array([1, 2, 3, 4, 5, 6])"
      ]
     },
     "execution_count": 53,
     "metadata": {},
     "output_type": "execute_result"
    }
   ],
   "source": [
    "a[0][0]"
   ]
  },
  {
   "cell_type": "code",
   "execution_count": 54,
   "id": "b6825ce3",
   "metadata": {},
   "outputs": [
    {
     "data": {
      "text/plain": [
       "array([11, 22, 33, 44, 55, 66])"
      ]
     },
     "execution_count": 54,
     "metadata": {},
     "output_type": "execute_result"
    }
   ],
   "source": [
    "a[0][1]"
   ]
  },
  {
   "cell_type": "code",
   "execution_count": 55,
   "id": "cf79bca1",
   "metadata": {},
   "outputs": [
    {
     "data": {
      "text/plain": [
       "6666"
      ]
     },
     "execution_count": 55,
     "metadata": {},
     "output_type": "execute_result"
    }
   ],
   "source": [
    "a[1][1][-1]"
   ]
  },
  {
   "cell_type": "code",
   "execution_count": 56,
   "id": "46cc31ed",
   "metadata": {},
   "outputs": [
    {
     "data": {
      "text/plain": [
       "array([[[6666]]])"
      ]
     },
     "execution_count": 56,
     "metadata": {},
     "output_type": "execute_result"
    }
   ],
   "source": [
    "a[1:,1:,-1:]"
   ]
  },
  {
   "cell_type": "code",
   "execution_count": 59,
   "id": "cf7a2e07",
   "metadata": {},
   "outputs": [
    {
     "data": {
      "text/plain": [
       "array([[[2, 3]]])"
      ]
     },
     "execution_count": 59,
     "metadata": {},
     "output_type": "execute_result"
    }
   ],
   "source": [
    "a[0:1,0:1,1:3]"
   ]
  },
  {
   "cell_type": "code",
   "execution_count": 62,
   "id": "c544edab",
   "metadata": {},
   "outputs": [
    {
     "name": "stdout",
     "output_type": "stream",
     "text": [
      "[[[1 2 3 4 5 6]]]\n"
     ]
    },
    {
     "data": {
      "text/plain": [
       "3"
      ]
     },
     "execution_count": 62,
     "metadata": {},
     "output_type": "execute_result"
    }
   ],
   "source": [
    "a=np.array([[[1,2,3,4,5,6]]])\n",
    "print(a)\n",
    "a.ndim"
   ]
  },
  {
   "cell_type": "code",
   "execution_count": 63,
   "id": "a05d915a",
   "metadata": {},
   "outputs": [
    {
     "data": {
      "text/plain": [
       "6"
      ]
     },
     "execution_count": 63,
     "metadata": {},
     "output_type": "execute_result"
    }
   ],
   "source": [
    "a[0][0][-1]"
   ]
  },
  {
   "cell_type": "markdown",
   "id": "064a479e",
   "metadata": {},
   "source": [
    "### Creating Randome Numbers"
   ]
  },
  {
   "cell_type": "code",
   "execution_count": 64,
   "id": "a4b68841",
   "metadata": {},
   "outputs": [
    {
     "data": {
      "text/plain": [
       "array([0.43343277, 0.59836273, 0.27181081, 0.71562516, 0.37545497])"
      ]
     },
     "execution_count": 64,
     "metadata": {},
     "output_type": "execute_result"
    }
   ],
   "source": [
    "np.random.rand(5)"
   ]
  },
  {
   "cell_type": "code",
   "execution_count": 65,
   "id": "c72a88e6",
   "metadata": {},
   "outputs": [
    {
     "data": {
      "text/plain": [
       "array([[0.36970552, 0.59737674, 0.46391061, 0.92944626, 0.75826169],\n",
       "       [0.91034772, 0.86794024, 0.38270368, 0.29916758, 0.60394072],\n",
       "       [0.40196415, 0.71904882, 0.46489179, 0.87214482, 0.88263133],\n",
       "       [0.52869854, 0.21918124, 0.27079977, 0.19189409, 0.54300428]])"
      ]
     },
     "execution_count": 65,
     "metadata": {},
     "output_type": "execute_result"
    }
   ],
   "source": [
    "np.random.rand(4,5)"
   ]
  },
  {
   "cell_type": "markdown",
   "id": "4be68411",
   "metadata": {},
   "source": [
    "### Numpy Functions()"
   ]
  },
  {
   "cell_type": "markdown",
   "id": "2e617201",
   "metadata": {},
   "source": [
    "- numpy.linspace: Create an array spaced values over a specified range.\n",
    "- numpy.logsapce: create an array spaced values on a logarithmic scale."
   ]
  },
  {
   "cell_type": "markdown",
   "id": "684a6acc",
   "metadata": {},
   "source": [
    "### 1.array()"
   ]
  },
  {
   "cell_type": "code",
   "execution_count": 67,
   "id": "38083c72",
   "metadata": {},
   "outputs": [
    {
     "data": {
      "text/plain": [
       "array([[ 5. ,  2. , 34.3],\n",
       "       [ 1. ,  2. ,  3. ]])"
      ]
     },
     "execution_count": 67,
     "metadata": {},
     "output_type": "execute_result"
    }
   ],
   "source": [
    "a=np.array([[5,2,34.3],[1,2,3]])\n",
    "a"
   ]
  },
  {
   "cell_type": "markdown",
   "id": "ccab4c21",
   "metadata": {},
   "source": [
    "### 2.zeros()"
   ]
  },
  {
   "cell_type": "code",
   "execution_count": 68,
   "id": "0d844ca6",
   "metadata": {},
   "outputs": [
    {
     "data": {
      "text/plain": [
       "array([[0., 0., 0., 0., 0., 0.],\n",
       "       [0., 0., 0., 0., 0., 0.],\n",
       "       [0., 0., 0., 0., 0., 0.],\n",
       "       [0., 0., 0., 0., 0., 0.],\n",
       "       [0., 0., 0., 0., 0., 0.],\n",
       "       [0., 0., 0., 0., 0., 0.],\n",
       "       [0., 0., 0., 0., 0., 0.],\n",
       "       [0., 0., 0., 0., 0., 0.],\n",
       "       [0., 0., 0., 0., 0., 0.]])"
      ]
     },
     "execution_count": 68,
     "metadata": {},
     "output_type": "execute_result"
    }
   ],
   "source": [
    "np.zeros((9,6))      #zeros(rows,colums)"
   ]
  },
  {
   "cell_type": "code",
   "execution_count": 69,
   "id": "c700564d",
   "metadata": {},
   "outputs": [
    {
     "data": {
      "text/plain": [
       "array([[0., 0., 0.],\n",
       "       [0., 0., 0.]])"
      ]
     },
     "execution_count": 69,
     "metadata": {},
     "output_type": "execute_result"
    }
   ],
   "source": [
    "np.zeros_like(a)"
   ]
  },
  {
   "cell_type": "markdown",
   "id": "68f76ec6",
   "metadata": {},
   "source": [
    "### 3..ones()"
   ]
  },
  {
   "cell_type": "code",
   "execution_count": 70,
   "id": "664b2cc6",
   "metadata": {},
   "outputs": [
    {
     "data": {
      "text/plain": [
       "array([[1., 1., 1., 1., 1., 1.],\n",
       "       [1., 1., 1., 1., 1., 1.],\n",
       "       [1., 1., 1., 1., 1., 1.],\n",
       "       [1., 1., 1., 1., 1., 1.],\n",
       "       [1., 1., 1., 1., 1., 1.]])"
      ]
     },
     "execution_count": 70,
     "metadata": {},
     "output_type": "execute_result"
    }
   ],
   "source": [
    "np.ones((5,6))"
   ]
  },
  {
   "cell_type": "code",
   "execution_count": 71,
   "id": "8bfaa099",
   "metadata": {},
   "outputs": [
    {
     "data": {
      "text/plain": [
       "array([[1., 1., 1.],\n",
       "       [1., 1., 1.]])"
      ]
     },
     "execution_count": 71,
     "metadata": {},
     "output_type": "execute_result"
    }
   ],
   "source": [
    "np.ones_like(a)"
   ]
  },
  {
   "cell_type": "markdown",
   "id": "2a1d6775",
   "metadata": {},
   "source": [
    "### 4.empty()"
   ]
  },
  {
   "cell_type": "code",
   "execution_count": 72,
   "id": "be4f5542",
   "metadata": {},
   "outputs": [
    {
     "data": {
      "text/plain": [
       "array(1.)"
      ]
     },
     "execution_count": 72,
     "metadata": {},
     "output_type": "execute_result"
    }
   ],
   "source": [
    "np.empty([])"
   ]
  },
  {
   "cell_type": "markdown",
   "id": "3248bd8f",
   "metadata": {},
   "source": [
    "### 5.arrage()"
   ]
  },
  {
   "cell_type": "code",
   "execution_count": 76,
   "id": "244d5ec2",
   "metadata": {},
   "outputs": [
    {
     "data": {
      "text/plain": [
       "array([ 1,  3,  5,  7,  9, 11, 13, 15, 17, 19])"
      ]
     },
     "execution_count": 76,
     "metadata": {},
     "output_type": "execute_result"
    }
   ],
   "source": [
    "np.arange(1,20,2)"
   ]
  },
  {
   "cell_type": "markdown",
   "id": "e91d2438",
   "metadata": {},
   "source": [
    "### 6.linespace()"
   ]
  },
  {
   "cell_type": "code",
   "execution_count": 77,
   "id": "b089ce70",
   "metadata": {},
   "outputs": [
    {
     "data": {
      "text/plain": [
       "array([  1.  ,  25.75,  50.5 ,  75.25, 100.  ])"
      ]
     },
     "execution_count": 77,
     "metadata": {},
     "output_type": "execute_result"
    }
   ],
   "source": [
    "np.linspace(1,100,5)"
   ]
  },
  {
   "cell_type": "markdown",
   "id": "baba35b9",
   "metadata": {},
   "source": [
    "### 7.logspace()"
   ]
  },
  {
   "cell_type": "markdown",
   "id": "fd38e440",
   "metadata": {},
   "source": [
    "- Return number spaced evenly on a log scale\n",
    "- LOG-Base10"
   ]
  },
  {
   "cell_type": "code",
   "execution_count": 85,
   "id": "4996d37e",
   "metadata": {},
   "outputs": [
    {
     "data": {
      "text/plain": [
       "array([1.e+01, 1.e+10])"
      ]
     },
     "execution_count": 85,
     "metadata": {},
     "output_type": "execute_result"
    }
   ],
   "source": [
    "np.logspace(1,10,2)"
   ]
  },
  {
   "cell_type": "markdown",
   "id": "d4cb20cd",
   "metadata": {},
   "source": [
    "### Manipulation Functions"
   ]
  },
  {
   "cell_type": "code",
   "execution_count": 86,
   "id": "7fe44844",
   "metadata": {},
   "outputs": [
    {
     "data": {
      "text/plain": [
       "array([[ 5. ,  2. , 34.3],\n",
       "       [ 1. ,  2. ,  3. ]])"
      ]
     },
     "execution_count": 86,
     "metadata": {},
     "output_type": "execute_result"
    }
   ],
   "source": [
    "a=np.array([[5,2,34.3],[1,2,3]])\n",
    "a"
   ]
  },
  {
   "cell_type": "markdown",
   "id": "5a73ccfd",
   "metadata": {},
   "source": [
    "## reshape()"
   ]
  },
  {
   "cell_type": "code",
   "execution_count": 87,
   "id": "9e5dd02c",
   "metadata": {},
   "outputs": [],
   "source": [
    "a=np.random.randint(1,10,(5,10))"
   ]
  },
  {
   "cell_type": "code",
   "execution_count": 88,
   "id": "0d17736f",
   "metadata": {},
   "outputs": [
    {
     "data": {
      "text/plain": [
       "array([[1, 4, 8, 6, 8, 9, 9, 6, 3, 2],\n",
       "       [9, 8, 6, 9, 2, 6, 2, 8, 4, 8],\n",
       "       [8, 5, 6, 7, 2, 5, 9, 1, 7, 8],\n",
       "       [4, 5, 4, 2, 9, 2, 7, 4, 5, 6],\n",
       "       [9, 5, 2, 2, 4, 6, 9, 2, 7, 7]])"
      ]
     },
     "execution_count": 88,
     "metadata": {},
     "output_type": "execute_result"
    }
   ],
   "source": [
    "a"
   ]
  },
  {
   "cell_type": "code",
   "execution_count": 89,
   "id": "73df9d07",
   "metadata": {
    "scrolled": true
   },
   "outputs": [
    {
     "data": {
      "text/plain": [
       "array([[1, 4],\n",
       "       [8, 6],\n",
       "       [8, 9],\n",
       "       [9, 6],\n",
       "       [3, 2],\n",
       "       [9, 8],\n",
       "       [6, 9],\n",
       "       [2, 6],\n",
       "       [2, 8],\n",
       "       [4, 8],\n",
       "       [8, 5],\n",
       "       [6, 7],\n",
       "       [2, 5],\n",
       "       [9, 1],\n",
       "       [7, 8],\n",
       "       [4, 5],\n",
       "       [4, 2],\n",
       "       [9, 2],\n",
       "       [7, 4],\n",
       "       [5, 6],\n",
       "       [9, 5],\n",
       "       [2, 2],\n",
       "       [4, 6],\n",
       "       [9, 2],\n",
       "       [7, 7]])"
      ]
     },
     "execution_count": 89,
     "metadata": {},
     "output_type": "execute_result"
    }
   ],
   "source": [
    "b=a.reshape(25,2)\n",
    "b"
   ]
  },
  {
   "cell_type": "markdown",
   "id": "f2b3b52f",
   "metadata": {},
   "source": [
    "### 2.Transpose()"
   ]
  },
  {
   "cell_type": "code",
   "execution_count": 145,
   "id": "f2a0603d",
   "metadata": {},
   "outputs": [
    {
     "data": {
      "text/plain": [
       "array([[1, 2, 3, 4],\n",
       "       [5, 6, 7, 8]])"
      ]
     },
     "execution_count": 145,
     "metadata": {},
     "output_type": "execute_result"
    }
   ],
   "source": [
    "y=np.array([[1,2,3,4],[5,6,7,8]])\n",
    "y"
   ]
  },
  {
   "cell_type": "code",
   "execution_count": 146,
   "id": "d391523a",
   "metadata": {},
   "outputs": [
    {
     "data": {
      "text/plain": [
       "array([[1, 5],\n",
       "       [2, 6],\n",
       "       [3, 7],\n",
       "       [4, 8]])"
      ]
     },
     "execution_count": 146,
     "metadata": {},
     "output_type": "execute_result"
    }
   ],
   "source": [
    "y.transpose()"
   ]
  },
  {
   "cell_type": "markdown",
   "id": "fa8e0f5c",
   "metadata": {},
   "source": [
    "### 3.concatinate()"
   ]
  },
  {
   "cell_type": "code",
   "execution_count": 148,
   "id": "8f058025",
   "metadata": {},
   "outputs": [
    {
     "data": {
      "text/plain": [
       "array([[1, 2, 3],\n",
       "       [2, 3, 4]])"
      ]
     },
     "execution_count": 148,
     "metadata": {},
     "output_type": "execute_result"
    }
   ],
   "source": [
    "a"
   ]
  },
  {
   "cell_type": "code",
   "execution_count": 149,
   "id": "9c71b215",
   "metadata": {},
   "outputs": [
    {
     "data": {
      "text/plain": [
       "array([1, 2, 3, 2, 3, 4])"
      ]
     },
     "execution_count": 149,
     "metadata": {},
     "output_type": "execute_result"
    }
   ],
   "source": [
    "np.concatenate(a)"
   ]
  },
  {
   "cell_type": "code",
   "execution_count": 150,
   "id": "0d987783",
   "metadata": {},
   "outputs": [
    {
     "data": {
      "text/plain": [
       "array([[1, 2, 3, 4],\n",
       "       [5, 6, 7, 8]])"
      ]
     },
     "execution_count": 150,
     "metadata": {},
     "output_type": "execute_result"
    }
   ],
   "source": [
    "y"
   ]
  },
  {
   "cell_type": "code",
   "execution_count": 151,
   "id": "c2d35302",
   "metadata": {},
   "outputs": [
    {
     "data": {
      "text/plain": [
       "array([1, 2, 3, 4, 5, 6, 7, 8])"
      ]
     },
     "execution_count": 151,
     "metadata": {},
     "output_type": "execute_result"
    }
   ],
   "source": [
    "np.concatenate(y)"
   ]
  },
  {
   "cell_type": "markdown",
   "id": "eacd01ce",
   "metadata": {},
   "source": [
    "### vstack()"
   ]
  },
  {
   "cell_type": "code",
   "execution_count": 152,
   "id": "ceb2b3bf",
   "metadata": {
    "scrolled": true
   },
   "outputs": [
    {
     "data": {
      "text/plain": [
       "array([[1, 2, 3, 4],\n",
       "       [5, 6, 7, 8]])"
      ]
     },
     "execution_count": 152,
     "metadata": {},
     "output_type": "execute_result"
    }
   ],
   "source": [
    "y"
   ]
  },
  {
   "cell_type": "code",
   "execution_count": 153,
   "id": "13d6f229",
   "metadata": {},
   "outputs": [
    {
     "data": {
      "text/plain": [
       "array([[1, 2, 3, 4],\n",
       "       [5, 6, 7, 8]])"
      ]
     },
     "execution_count": 153,
     "metadata": {},
     "output_type": "execute_result"
    }
   ],
   "source": [
    "np.vstack(y)"
   ]
  },
  {
   "cell_type": "code",
   "execution_count": 155,
   "id": "f6b95507",
   "metadata": {},
   "outputs": [
    {
     "data": {
      "text/plain": [
       "array([1, 2, 3, 4, 5, 6, 7, 8])"
      ]
     },
     "execution_count": 155,
     "metadata": {},
     "output_type": "execute_result"
    }
   ],
   "source": [
    "np.hstack(y)"
   ]
  },
  {
   "cell_type": "code",
   "execution_count": 156,
   "id": "b5e8f980",
   "metadata": {},
   "outputs": [
    {
     "data": {
      "text/plain": [
       "array([[1, 2, 3],\n",
       "       [2, 3, 4]])"
      ]
     },
     "execution_count": 156,
     "metadata": {},
     "output_type": "execute_result"
    }
   ],
   "source": [
    "a"
   ]
  },
  {
   "cell_type": "code",
   "execution_count": 157,
   "id": "5061c334",
   "metadata": {},
   "outputs": [
    {
     "data": {
      "text/plain": [
       "array([[1, 2, 3],\n",
       "       [2, 3, 4]])"
      ]
     },
     "execution_count": 157,
     "metadata": {},
     "output_type": "execute_result"
    }
   ],
   "source": [
    "np.vstack(a)"
   ]
  },
  {
   "cell_type": "code",
   "execution_count": 159,
   "id": "6eea2060",
   "metadata": {},
   "outputs": [
    {
     "data": {
      "text/plain": [
       "array([1, 2, 3, 2, 3, 4])"
      ]
     },
     "execution_count": 159,
     "metadata": {},
     "output_type": "execute_result"
    }
   ],
   "source": [
    "np.hstack(a)"
   ]
  },
  {
   "cell_type": "code",
   "execution_count": 90,
   "id": "6106906b",
   "metadata": {},
   "outputs": [
    {
     "name": "stdout",
     "output_type": "stream",
     "text": [
      "[[[0.3398026  0.22607574 0.3447382  0.51510902]\n",
      "  [0.32238975 0.14457817 0.11337277 0.13687243]\n",
      "  [0.98803829 0.29190609 0.08433543 0.42362064]\n",
      "  [0.40964435 0.72438956 0.0967185  0.60875795]]\n",
      "\n",
      " [[0.37180209 0.14260781 0.8916892  0.76376465]\n",
      "  [0.5202886  0.28788539 0.11363173 0.20155217]\n",
      "  [0.84051029 0.47755814 0.74460022 0.77752214]\n",
      "  [0.90676098 0.02350712 0.75554379 0.13990166]]\n",
      "\n",
      " [[0.99245849 0.41471858 0.8995705  0.87578005]\n",
      "  [0.76820925 0.35975003 0.86305749 0.8294315 ]\n",
      "  [0.96504597 0.77475599 0.02199981 0.25963356]\n",
      "  [0.77115699 0.62060126 0.4342089  0.21929632]]\n",
      "\n",
      " [[0.33185728 0.74521985 0.97570356 0.91049631]\n",
      "  [0.89655305 0.48328517 0.5967062  0.20530177]\n",
      "  [0.39827156 0.07317853 0.68926081 0.45564676]\n",
      "  [0.07850827 0.74306036 0.37269485 0.20624021]]]\n"
     ]
    },
    {
     "data": {
      "text/plain": [
       "3"
      ]
     },
     "execution_count": 90,
     "metadata": {},
     "output_type": "execute_result"
    }
   ],
   "source": [
    "a=np.random.rand(4,4,4)\n",
    "print(a)\n",
    "a.ndim"
   ]
  },
  {
   "cell_type": "code",
   "execution_count": 91,
   "id": "4565e90b",
   "metadata": {},
   "outputs": [
    {
     "data": {
      "text/plain": [
       "array([[7, 4, 9],\n",
       "       [9, 2, 7]])"
      ]
     },
     "execution_count": 91,
     "metadata": {},
     "output_type": "execute_result"
    }
   ],
   "source": [
    "np.random.randint(1,10,(2,3))  #randint(range,(rows,col))"
   ]
  },
  {
   "cell_type": "code",
   "execution_count": 93,
   "id": "2f7b7a4f",
   "metadata": {},
   "outputs": [
    {
     "data": {
      "text/plain": [
       "array([[6, 3, 1, 1, 1, 7],\n",
       "       [3, 7, 5, 3, 7, 5],\n",
       "       [9, 5, 4, 2, 3, 8],\n",
       "       [5, 7, 5, 1, 6, 5],\n",
       "       [8, 8, 4, 8, 6, 8],\n",
       "       [9, 5, 4, 8, 5, 1]])"
      ]
     },
     "execution_count": 93,
     "metadata": {},
     "output_type": "execute_result"
    }
   ],
   "source": [
    "x=np.random.randint(1,10,(6,6))  #36=(2,18),(3,12),(12,3)\n",
    "x"
   ]
  },
  {
   "cell_type": "code",
   "execution_count": 94,
   "id": "ee56ed68",
   "metadata": {},
   "outputs": [
    {
     "data": {
      "text/plain": [
       "array([[6, 3, 1],\n",
       "       [1, 1, 7],\n",
       "       [3, 7, 5],\n",
       "       [3, 7, 5],\n",
       "       [9, 5, 4],\n",
       "       [2, 3, 8],\n",
       "       [5, 7, 5],\n",
       "       [1, 6, 5],\n",
       "       [8, 8, 4],\n",
       "       [8, 6, 8],\n",
       "       [9, 5, 4],\n",
       "       [8, 5, 1]])"
      ]
     },
     "execution_count": 94,
     "metadata": {},
     "output_type": "execute_result"
    }
   ],
   "source": [
    "x.reshape(12,3)"
   ]
  },
  {
   "cell_type": "code",
   "execution_count": 95,
   "id": "66ef229b",
   "metadata": {},
   "outputs": [
    {
     "data": {
      "text/plain": [
       "array([[6, 3, 1, 1, 1, 7, 3, 7, 5, 3, 7, 5, 9, 5, 4, 2, 3, 8],\n",
       "       [5, 7, 5, 1, 6, 5, 8, 8, 4, 8, 6, 8, 9, 5, 4, 8, 5, 1]])"
      ]
     },
     "execution_count": 95,
     "metadata": {},
     "output_type": "execute_result"
    }
   ],
   "source": [
    "x.reshape(2,18)"
   ]
  },
  {
   "cell_type": "code",
   "execution_count": 96,
   "id": "98189f87",
   "metadata": {},
   "outputs": [
    {
     "data": {
      "text/plain": [
       "array([[50, 17],\n",
       "       [95, 50],\n",
       "       [61, 64],\n",
       "       [ 3, 29],\n",
       "       [ 4, 55]])"
      ]
     },
     "execution_count": 96,
     "metadata": {},
     "output_type": "execute_result"
    }
   ],
   "source": [
    "np.random.randint(1,100,(5,2))"
   ]
  },
  {
   "cell_type": "code",
   "execution_count": 98,
   "id": "93f20982",
   "metadata": {},
   "outputs": [
    {
     "data": {
      "text/plain": [
       "array([[79, 65, 77, 61, 50, 34, 66, 77, 46, 59, 89, 33, 12, 91, 64, 14,\n",
       "        63, 62,  1, 61, 47, 42, 21, 38, 64, 24, 95, 23, 59,  3, 59, 12,\n",
       "        64, 78, 41, 17, 55, 22, 35, 85, 36, 30,  8, 73, 31, 80, 12, 59,\n",
       "        14, 48, 67, 99, 35, 98, 94, 84, 96, 29, 28, 68, 94,  8,  3, 14,\n",
       "        66, 52, 54, 68, 10, 83, 97, 48,  1, 82, 65,  4, 41, 33, 67, 23,\n",
       "        97, 89, 23, 80, 76, 22,  6, 27, 19, 35, 42, 65, 29, 76, 65, 52,\n",
       "         5, 11, 13,  4]])"
      ]
     },
     "execution_count": 98,
     "metadata": {},
     "output_type": "execute_result"
    }
   ],
   "source": [
    "a=np.random.randint(1,100,(1,100))\n",
    "a"
   ]
  },
  {
   "cell_type": "markdown",
   "id": "3c4e7fd6",
   "metadata": {},
   "source": [
    "## Full"
   ]
  },
  {
   "cell_type": "markdown",
   "id": "4995e362",
   "metadata": {},
   "source": [
    "- Return a new array of given shape and types,filled with fill_value."
   ]
  },
  {
   "cell_type": "code",
   "execution_count": 99,
   "id": "2205c1ae",
   "metadata": {},
   "outputs": [
    {
     "data": {
      "text/plain": [
       "array([[100, 100, 100, 100, 100],\n",
       "       [100, 100, 100, 100, 100],\n",
       "       [100, 100, 100, 100, 100],\n",
       "       [100, 100, 100, 100, 100],\n",
       "       [100, 100, 100, 100, 100]])"
      ]
     },
     "execution_count": 99,
     "metadata": {},
     "output_type": "execute_result"
    }
   ],
   "source": [
    "np.full((5,5),100)"
   ]
  },
  {
   "cell_type": "code",
   "execution_count": 100,
   "id": "9a86eb00",
   "metadata": {},
   "outputs": [
    {
     "data": {
      "text/plain": [
       "array([['ms', 'ms', 'ms', 'ms', 'ms', 'ms', 'ms', 'ms'],\n",
       "       ['ms', 'ms', 'ms', 'ms', 'ms', 'ms', 'ms', 'ms'],\n",
       "       ['ms', 'ms', 'ms', 'ms', 'ms', 'ms', 'ms', 'ms'],\n",
       "       ['ms', 'ms', 'ms', 'ms', 'ms', 'ms', 'ms', 'ms']], dtype='<U2')"
      ]
     },
     "execution_count": 100,
     "metadata": {},
     "output_type": "execute_result"
    }
   ],
   "source": [
    "a=np.full((4,8),\"ms\")\n",
    "a"
   ]
  },
  {
   "cell_type": "code",
   "execution_count": 101,
   "id": "28ef9a20",
   "metadata": {},
   "outputs": [
    {
     "data": {
      "text/plain": [
       "array([['15', '15', '15', '15', '15', '15', '15', '15'],\n",
       "       ['15', '15', '15', '15', '15', '15', '15', '15'],\n",
       "       ['15', '15', '15', '15', '15', '15', '15', '15'],\n",
       "       ['15', '15', '15', '15', '15', '15', '15', '15']], dtype='<U2')"
      ]
     },
     "execution_count": 101,
     "metadata": {},
     "output_type": "execute_result"
    }
   ],
   "source": [
    "np.full_like(a,15)"
   ]
  },
  {
   "cell_type": "markdown",
   "id": "22701407",
   "metadata": {},
   "source": [
    "## eye"
   ]
  },
  {
   "cell_type": "markdown",
   "id": "9caee419",
   "metadata": {},
   "source": [
    "- Return a 2-D array with ones on the diagonal and zero elsewhere."
   ]
  },
  {
   "cell_type": "code",
   "execution_count": 102,
   "id": "9366eaf0",
   "metadata": {},
   "outputs": [
    {
     "data": {
      "text/plain": [
       "array([[1., 0., 0., 0., 0., 0.],\n",
       "       [0., 1., 0., 0., 0., 0.],\n",
       "       [0., 0., 1., 0., 0., 0.],\n",
       "       [0., 0., 0., 1., 0., 0.],\n",
       "       [0., 0., 0., 0., 1., 0.]])"
      ]
     },
     "execution_count": 102,
     "metadata": {},
     "output_type": "execute_result"
    }
   ],
   "source": [
    "np.eye(5,6)"
   ]
  },
  {
   "cell_type": "code",
   "execution_count": 103,
   "id": "ca250f74",
   "metadata": {},
   "outputs": [
    {
     "data": {
      "text/plain": [
       "array([[1., 0., 0., 0., 0., 0., 0.],\n",
       "       [0., 1., 0., 0., 0., 0., 0.],\n",
       "       [0., 0., 1., 0., 0., 0., 0.],\n",
       "       [0., 0., 0., 1., 0., 0., 0.],\n",
       "       [0., 0., 0., 0., 1., 0., 0.]])"
      ]
     },
     "execution_count": 103,
     "metadata": {},
     "output_type": "execute_result"
    }
   ],
   "source": [
    "np.eye(5,7)"
   ]
  },
  {
   "cell_type": "code",
   "execution_count": 104,
   "id": "267cd147",
   "metadata": {},
   "outputs": [
    {
     "data": {
      "text/plain": [
       "array([[1., 0., 0., 0., 0., 0., 0., 0., 0., 0.],\n",
       "       [0., 1., 0., 0., 0., 0., 0., 0., 0., 0.],\n",
       "       [0., 0., 1., 0., 0., 0., 0., 0., 0., 0.],\n",
       "       [0., 0., 0., 1., 0., 0., 0., 0., 0., 0.],\n",
       "       [0., 0., 0., 0., 1., 0., 0., 0., 0., 0.],\n",
       "       [0., 0., 0., 0., 0., 1., 0., 0., 0., 0.],\n",
       "       [0., 0., 0., 0., 0., 0., 1., 0., 0., 0.],\n",
       "       [0., 0., 0., 0., 0., 0., 0., 1., 0., 0.],\n",
       "       [0., 0., 0., 0., 0., 0., 0., 0., 1., 0.],\n",
       "       [0., 0., 0., 0., 0., 0., 0., 0., 0., 1.]])"
      ]
     },
     "execution_count": 104,
     "metadata": {},
     "output_type": "execute_result"
    }
   ],
   "source": [
    "np.eye(10,10)"
   ]
  },
  {
   "cell_type": "code",
   "execution_count": 105,
   "id": "e001b142",
   "metadata": {},
   "outputs": [
    {
     "data": {
      "text/plain": [
       "array([[0., 0., 0., 1., 0.],\n",
       "       [0., 0., 0., 0., 1.],\n",
       "       [0., 0., 0., 0., 0.],\n",
       "       [0., 0., 0., 0., 0.],\n",
       "       [0., 0., 0., 0., 0.]])"
      ]
     },
     "execution_count": 105,
     "metadata": {},
     "output_type": "execute_result"
    }
   ],
   "source": [
    "np.eye(5,k=3)"
   ]
  },
  {
   "cell_type": "code",
   "execution_count": 106,
   "id": "d1574d4c",
   "metadata": {},
   "outputs": [
    {
     "data": {
      "text/plain": [
       "array([[0., 0., 0., 0., 0., 0., 0., 0., 0., 0.],\n",
       "       [0., 0., 0., 0., 0., 0., 0., 0., 0., 0.],\n",
       "       [1., 0., 0., 0., 0., 0., 0., 0., 0., 0.],\n",
       "       [0., 1., 0., 0., 0., 0., 0., 0., 0., 0.],\n",
       "       [0., 0., 1., 0., 0., 0., 0., 0., 0., 0.],\n",
       "       [0., 0., 0., 1., 0., 0., 0., 0., 0., 0.],\n",
       "       [0., 0., 0., 0., 1., 0., 0., 0., 0., 0.],\n",
       "       [0., 0., 0., 0., 0., 1., 0., 0., 0., 0.],\n",
       "       [0., 0., 0., 0., 0., 0., 1., 0., 0., 0.],\n",
       "       [0., 0., 0., 0., 0., 0., 0., 1., 0., 0.]])"
      ]
     },
     "execution_count": 106,
     "metadata": {},
     "output_type": "execute_result"
    }
   ],
   "source": [
    "np.eye(10,k=-2)"
   ]
  },
  {
   "cell_type": "markdown",
   "id": "c02c840f",
   "metadata": {},
   "source": [
    "## Where"
   ]
  },
  {
   "cell_type": "code",
   "execution_count": 108,
   "id": "0fa6fe85",
   "metadata": {},
   "outputs": [
    {
     "data": {
      "text/plain": [
       "array([ 3,  4,  5,  6,  7,  8,  9, 10, 11, 12, 13, 14, 15, 16, 17, 18, 19,\n",
       "       20, 21, 22, 23, 24, 25, 26, 27, 28, 29, 30, 31, 32, 33, 34, 35, 36,\n",
       "       37, 38, 39, 40, 41, 42, 43, 44, 45, 46, 47, 48, 49])"
      ]
     },
     "execution_count": 108,
     "metadata": {},
     "output_type": "execute_result"
    }
   ],
   "source": [
    "z=np.arange(3,50)\n",
    "z"
   ]
  },
  {
   "cell_type": "code",
   "execution_count": null,
   "id": "d6504bc9",
   "metadata": {},
   "outputs": [],
   "source": [
    "np.where(z<15)\n",
    "\n",
    "#it gives position of that element witch satisfy the condition"
   ]
  },
  {
   "cell_type": "code",
   "execution_count": 110,
   "id": "b63de4c5",
   "metadata": {},
   "outputs": [
    {
     "data": {
      "text/plain": [
       "(array([ 1,  3,  5,  7,  9, 11, 13, 15, 17, 19, 21, 23, 25, 27, 29, 31, 33,\n",
       "        35, 37, 39, 41, 43, 45], dtype=int64),)"
      ]
     },
     "execution_count": 110,
     "metadata": {},
     "output_type": "execute_result"
    }
   ],
   "source": [
    "np.where(z%2==0)"
   ]
  },
  {
   "cell_type": "code",
   "execution_count": 111,
   "id": "5a91ec88",
   "metadata": {},
   "outputs": [
    {
     "data": {
      "text/plain": [
       "(array([3], dtype=int64),)"
      ]
     },
     "execution_count": 111,
     "metadata": {},
     "output_type": "execute_result"
    }
   ],
   "source": [
    "np.where(z==6)"
   ]
  },
  {
   "cell_type": "markdown",
   "id": "35209659",
   "metadata": {},
   "source": [
    "### Split"
   ]
  },
  {
   "cell_type": "markdown",
   "id": "87e7f9fa",
   "metadata": {},
   "source": [
    "- Split an array into multiple sub-array"
   ]
  },
  {
   "cell_type": "code",
   "execution_count": 112,
   "id": "654288d3",
   "metadata": {},
   "outputs": [
    {
     "data": {
      "text/plain": [
       "array([0, 1, 2, 3, 4, 5, 6, 7, 8, 9])"
      ]
     },
     "execution_count": 112,
     "metadata": {},
     "output_type": "execute_result"
    }
   ],
   "source": [
    "e=np.arange(0,10)\n",
    "e"
   ]
  },
  {
   "cell_type": "code",
   "execution_count": 113,
   "id": "e5876089",
   "metadata": {},
   "outputs": [
    {
     "data": {
      "text/plain": [
       "[array([0, 1]), array([2, 3]), array([4, 5]), array([6, 7]), array([8, 9])]"
      ]
     },
     "execution_count": 113,
     "metadata": {},
     "output_type": "execute_result"
    }
   ],
   "source": [
    "np.split(e,5)"
   ]
  },
  {
   "cell_type": "code",
   "execution_count": 114,
   "id": "19206bce",
   "metadata": {},
   "outputs": [
    {
     "data": {
      "text/plain": [
       "[array([0, 1, 2, 3, 4]), array([5, 6, 7, 8, 9])]"
      ]
     },
     "execution_count": 114,
     "metadata": {},
     "output_type": "execute_result"
    }
   ],
   "source": [
    "np.split(e,2)"
   ]
  },
  {
   "cell_type": "code",
   "execution_count": 115,
   "id": "939f8f59",
   "metadata": {},
   "outputs": [],
   "source": [
    "a,b=np.split(e,2)"
   ]
  },
  {
   "cell_type": "code",
   "execution_count": 116,
   "id": "bd04ad8a",
   "metadata": {},
   "outputs": [
    {
     "data": {
      "text/plain": [
       "array([0, 1, 2, 3, 4])"
      ]
     },
     "execution_count": 116,
     "metadata": {},
     "output_type": "execute_result"
    }
   ],
   "source": [
    "a"
   ]
  },
  {
   "cell_type": "code",
   "execution_count": 117,
   "id": "6a7056e8",
   "metadata": {},
   "outputs": [
    {
     "data": {
      "text/plain": [
       "array([5, 6, 7, 8, 9])"
      ]
     },
     "execution_count": 117,
     "metadata": {},
     "output_type": "execute_result"
    }
   ],
   "source": [
    "b"
   ]
  },
  {
   "cell_type": "markdown",
   "id": "773ac39e",
   "metadata": {},
   "source": [
    "### Arithematic Operations in numpy"
   ]
  },
  {
   "cell_type": "code",
   "execution_count": null,
   "id": "fc4b7f11",
   "metadata": {},
   "outputs": [],
   "source": [
    "import numpy as np"
   ]
  },
  {
   "cell_type": "code",
   "execution_count": 118,
   "id": "7bd9f41c",
   "metadata": {},
   "outputs": [],
   "source": [
    "a=np.array([[1,2,10],[5,7,8]])\n",
    "b=np.array([[10,20,7],[50,70,7]])"
   ]
  },
  {
   "cell_type": "code",
   "execution_count": 119,
   "id": "ea16c424",
   "metadata": {},
   "outputs": [
    {
     "data": {
      "text/plain": [
       "array([[ 1,  2, 10],\n",
       "       [ 5,  7,  8]])"
      ]
     },
     "execution_count": 119,
     "metadata": {},
     "output_type": "execute_result"
    }
   ],
   "source": [
    "a"
   ]
  },
  {
   "cell_type": "code",
   "execution_count": 120,
   "id": "23f8e5b4",
   "metadata": {},
   "outputs": [
    {
     "data": {
      "text/plain": [
       "array([[10, 20,  7],\n",
       "       [50, 70,  7]])"
      ]
     },
     "execution_count": 120,
     "metadata": {},
     "output_type": "execute_result"
    }
   ],
   "source": [
    "b"
   ]
  },
  {
   "cell_type": "markdown",
   "id": "6e5ca0e3",
   "metadata": {},
   "source": [
    "### add()"
   ]
  },
  {
   "cell_type": "code",
   "execution_count": 121,
   "id": "455302cf",
   "metadata": {},
   "outputs": [
    {
     "data": {
      "text/plain": [
       "array([[11, 22, 17],\n",
       "       [55, 77, 15]])"
      ]
     },
     "execution_count": 121,
     "metadata": {},
     "output_type": "execute_result"
    }
   ],
   "source": [
    "a+b   #using operators(+)"
   ]
  },
  {
   "cell_type": "code",
   "execution_count": 122,
   "id": "892ed192",
   "metadata": {},
   "outputs": [
    {
     "data": {
      "text/plain": [
       "array([[11, 22, 17],\n",
       "       [55, 77, 15]])"
      ]
     },
     "execution_count": 122,
     "metadata": {},
     "output_type": "execute_result"
    }
   ],
   "source": [
    "np.add(a,b)"
   ]
  },
  {
   "cell_type": "markdown",
   "id": "944023b9",
   "metadata": {},
   "source": [
    "### sub()"
   ]
  },
  {
   "cell_type": "code",
   "execution_count": 123,
   "id": "4e71ccf4",
   "metadata": {},
   "outputs": [
    {
     "data": {
      "text/plain": [
       "array([[ -9, -18,   3],\n",
       "       [-45, -63,   1]])"
      ]
     },
     "execution_count": 123,
     "metadata": {},
     "output_type": "execute_result"
    }
   ],
   "source": [
    "np.subtract(a,b)"
   ]
  },
  {
   "cell_type": "markdown",
   "id": "de25e4b1",
   "metadata": {},
   "source": [
    "### mult()"
   ]
  },
  {
   "cell_type": "code",
   "execution_count": 124,
   "id": "a5543860",
   "metadata": {},
   "outputs": [
    {
     "data": {
      "text/plain": [
       "array([[ 10,  40,  70],\n",
       "       [250, 490,  56]])"
      ]
     },
     "execution_count": 124,
     "metadata": {},
     "output_type": "execute_result"
    }
   ],
   "source": [
    "np.multiply(a,b)"
   ]
  },
  {
   "cell_type": "code",
   "execution_count": 126,
   "id": "0e03647c",
   "metadata": {},
   "outputs": [],
   "source": [
    "a=np.array([[1,2,3],[2,3,4]])\n",
    "b=np.array([[1,2,3],[2,3,4]])\n"
   ]
  },
  {
   "cell_type": "code",
   "execution_count": 127,
   "id": "1010de7d",
   "metadata": {},
   "outputs": [
    {
     "data": {
      "text/plain": [
       "array([[ 1,  4,  9],\n",
       "       [ 4,  9, 16]])"
      ]
     },
     "execution_count": 127,
     "metadata": {},
     "output_type": "execute_result"
    }
   ],
   "source": [
    "a*b"
   ]
  },
  {
   "cell_type": "code",
   "execution_count": 128,
   "id": "b5070805",
   "metadata": {},
   "outputs": [
    {
     "data": {
      "text/plain": [
       "array([[1., 1., 1.],\n",
       "       [1., 1., 1.]])"
      ]
     },
     "execution_count": 128,
     "metadata": {},
     "output_type": "execute_result"
    }
   ],
   "source": [
    "np.divide(a,b)"
   ]
  },
  {
   "cell_type": "code",
   "execution_count": 129,
   "id": "468945d1",
   "metadata": {},
   "outputs": [
    {
     "data": {
      "text/plain": [
       "array([[0, 0, 0],\n",
       "       [0, 0, 0]])"
      ]
     },
     "execution_count": 129,
     "metadata": {},
     "output_type": "execute_result"
    }
   ],
   "source": [
    "np.mod(a,b)"
   ]
  },
  {
   "cell_type": "code",
   "execution_count": 130,
   "id": "db2cd3b8",
   "metadata": {},
   "outputs": [
    {
     "data": {
      "text/plain": [
       "array([[  1,   4,  27],\n",
       "       [  4,  27, 256]])"
      ]
     },
     "execution_count": 130,
     "metadata": {},
     "output_type": "execute_result"
    }
   ],
   "source": [
    "np.power(a,b)"
   ]
  },
  {
   "cell_type": "markdown",
   "id": "b3364b82",
   "metadata": {},
   "source": [
    "### Statistics"
   ]
  },
  {
   "cell_type": "code",
   "execution_count": 131,
   "id": "f60ac4a5",
   "metadata": {},
   "outputs": [],
   "source": [
    "import numpy as np"
   ]
  },
  {
   "cell_type": "code",
   "execution_count": 132,
   "id": "d42110b8",
   "metadata": {},
   "outputs": [
    {
     "data": {
      "text/plain": [
       "2"
      ]
     },
     "execution_count": 132,
     "metadata": {},
     "output_type": "execute_result"
    }
   ],
   "source": [
    "s=np.array([[50,10,30,],[500,100,300,],[5,1,3,]])\n",
    "s.ndim"
   ]
  },
  {
   "cell_type": "code",
   "execution_count": 133,
   "id": "7debb894",
   "metadata": {},
   "outputs": [
    {
     "data": {
      "text/plain": [
       "array([[ 50,  10,  30],\n",
       "       [500, 100, 300],\n",
       "       [  5,   1,   3]])"
      ]
     },
     "execution_count": 133,
     "metadata": {},
     "output_type": "execute_result"
    }
   ],
   "source": [
    "s"
   ]
  },
  {
   "cell_type": "code",
   "execution_count": 134,
   "id": "675d7620",
   "metadata": {},
   "outputs": [
    {
     "data": {
      "text/plain": [
       "array([[ 50,  17,   4],\n",
       "       [ 50, 140,   0],\n",
       "       [ 15,   1,   3]])"
      ]
     },
     "execution_count": 134,
     "metadata": {},
     "output_type": "execute_result"
    }
   ],
   "source": [
    "b=np.array([[50,17,4],[50,140,0],[15,1,3]])\n",
    "b"
   ]
  },
  {
   "cell_type": "code",
   "execution_count": 135,
   "id": "3b0c5bdd",
   "metadata": {},
   "outputs": [
    {
     "data": {
      "text/plain": [
       "array([ 50, 140,  15])"
      ]
     },
     "execution_count": 135,
     "metadata": {},
     "output_type": "execute_result"
    }
   ],
   "source": [
    "np.amax(b,axis=1)       #0=row,1=col"
   ]
  },
  {
   "cell_type": "code",
   "execution_count": 136,
   "id": "805c922c",
   "metadata": {},
   "outputs": [
    {
     "data": {
      "text/plain": [
       "array([5, 1, 3])"
      ]
     },
     "execution_count": 136,
     "metadata": {},
     "output_type": "execute_result"
    }
   ],
   "source": [
    "np.amin(s,axis=0)"
   ]
  },
  {
   "cell_type": "code",
   "execution_count": 137,
   "id": "f6a04c5f",
   "metadata": {},
   "outputs": [
    {
     "data": {
      "text/plain": [
       "500"
      ]
     },
     "execution_count": 137,
     "metadata": {},
     "output_type": "execute_result"
    }
   ],
   "source": [
    "np.amax(s)"
   ]
  },
  {
   "cell_type": "code",
   "execution_count": 138,
   "id": "a47ac45a",
   "metadata": {},
   "outputs": [
    {
     "data": {
      "text/plain": [
       "array([500, 100, 300])"
      ]
     },
     "execution_count": 138,
     "metadata": {},
     "output_type": "execute_result"
    }
   ],
   "source": [
    "np.amax(s,axis=0)"
   ]
  },
  {
   "cell_type": "code",
   "execution_count": 139,
   "id": "42f2e6d4",
   "metadata": {},
   "outputs": [
    {
     "data": {
      "text/plain": [
       "array([ 50, 500,   5])"
      ]
     },
     "execution_count": 139,
     "metadata": {},
     "output_type": "execute_result"
    }
   ],
   "source": [
    "np.amax(s,axis=1)"
   ]
  },
  {
   "cell_type": "code",
   "execution_count": 140,
   "id": "3a21ab50",
   "metadata": {},
   "outputs": [
    {
     "data": {
      "text/plain": [
       "array([[ 50,  17,   4],\n",
       "       [ 50, 140,   0],\n",
       "       [ 15,   1,   3]])"
      ]
     },
     "execution_count": 140,
     "metadata": {},
     "output_type": "execute_result"
    }
   ],
   "source": [
    "b"
   ]
  },
  {
   "cell_type": "code",
   "execution_count": 141,
   "id": "f9dccc89",
   "metadata": {},
   "outputs": [
    {
     "data": {
      "text/plain": [
       "31.11111111111111"
      ]
     },
     "execution_count": 141,
     "metadata": {},
     "output_type": "execute_result"
    }
   ],
   "source": [
    "np.mean(b)"
   ]
  },
  {
   "cell_type": "code",
   "execution_count": 142,
   "id": "f9372340",
   "metadata": {},
   "outputs": [
    {
     "data": {
      "text/plain": [
       "31.11111111111111"
      ]
     },
     "execution_count": 142,
     "metadata": {},
     "output_type": "execute_result"
    }
   ],
   "source": [
    "(50+50+15+17+140+1+4+3)/9"
   ]
  },
  {
   "cell_type": "code",
   "execution_count": 143,
   "id": "94941236",
   "metadata": {},
   "outputs": [
    {
     "data": {
      "text/plain": [
       "26960.666666666668"
      ]
     },
     "execution_count": 143,
     "metadata": {},
     "output_type": "execute_result"
    }
   ],
   "source": [
    "np.var(s)"
   ]
  },
  {
   "cell_type": "code",
   "execution_count": 144,
   "id": "442b198d",
   "metadata": {},
   "outputs": [
    {
     "data": {
      "text/plain": [
       "164.1970361080451"
      ]
     },
     "execution_count": 144,
     "metadata": {},
     "output_type": "execute_result"
    }
   ],
   "source": [
    "np.std(s)"
   ]
  },
  {
   "cell_type": "markdown",
   "id": "d7e55cd3",
   "metadata": {},
   "source": [
    "### Datatype"
   ]
  },
  {
   "cell_type": "markdown",
   "id": "d9c4f3bb",
   "metadata": {},
   "source": [
    "- The main several data types supported by NumPy Python are\n",
    "- np.bool_: This type is used to return boolean values like (True or False).\n",
    "- np.int: It is the default type of integer and C-type long.\n",
    "- intc: It is similar to C integer and it indicates 32 or 64 bit integer.\n",
    "- intp: This type indicates for indexing.\n",
    "- int8: By default its range value is -128 to 127.\n",
    "- int16: It is a 16 bit integer and by default its range value is (-32768 to 32767).\n",
    "- int32: it is for set 32-bit integer and the range value is (-2147483648 to 2147483647).\n",
    "- int64: By default its value is set at (-9223372036854775808 to 9223372036854775807).\n",
    "- uint8: It is a 8 bit integer and range value is (0 to 255).\n",
    "- uint16: It is a 16 bit unsigned integer and range value is (0 to 65535).\n",
    "- uint32: This is a unsigned integer with 32 bit and its value is (0 to 4294967295).\n",
    "- uint64: It is a 8 byte unsigned integer and range value is (0 to 18446744073709551615)."
   ]
  },
  {
   "cell_type": "code",
   "execution_count": 161,
   "id": "02d9a1ed",
   "metadata": {},
   "outputs": [
    {
     "data": {
      "text/plain": [
       "dtype('int32')"
      ]
     },
     "execution_count": 161,
     "metadata": {},
     "output_type": "execute_result"
    }
   ],
   "source": [
    "a=np.array([2555])\n",
    "a.dtype\n"
   ]
  },
  {
   "cell_type": "code",
   "execution_count": 162,
   "id": "8fd9de58",
   "metadata": {},
   "outputs": [],
   "source": [
    "a=np.array([12,2,3,6],dtype=np.float16)"
   ]
  },
  {
   "cell_type": "code",
   "execution_count": 163,
   "id": "4cd408ab",
   "metadata": {},
   "outputs": [
    {
     "data": {
      "text/plain": [
       "dtype('float16')"
      ]
     },
     "execution_count": 163,
     "metadata": {},
     "output_type": "execute_result"
    }
   ],
   "source": [
    "a.dtype"
   ]
  },
  {
   "cell_type": "code",
   "execution_count": 164,
   "id": "03903a8b",
   "metadata": {},
   "outputs": [
    {
     "data": {
      "text/plain": [
       "array([12.,  2.,  3.,  6.], dtype=float16)"
      ]
     },
     "execution_count": 164,
     "metadata": {},
     "output_type": "execute_result"
    }
   ],
   "source": [
    "a"
   ]
  },
  {
   "cell_type": "code",
   "execution_count": 165,
   "id": "f70d9e45",
   "metadata": {},
   "outputs": [
    {
     "data": {
      "text/plain": [
       "array('1999-06-14', dtype='datetime64[D]')"
      ]
     },
     "execution_count": 165,
     "metadata": {},
     "output_type": "execute_result"
    }
   ],
   "source": [
    "np.array(np.datetime64('1999-06-14'))"
   ]
  },
  {
   "cell_type": "code",
   "execution_count": 166,
   "id": "04a29ad5",
   "metadata": {},
   "outputs": [
    {
     "data": {
      "text/plain": [
       "array([1., 2., 3.])"
      ]
     },
     "execution_count": 166,
     "metadata": {},
     "output_type": "execute_result"
    }
   ],
   "source": [
    "new=np.array([1.0,2.0,3.0])\n",
    "new"
   ]
  },
  {
   "cell_type": "code",
   "execution_count": 168,
   "id": "3433c633",
   "metadata": {},
   "outputs": [],
   "source": [
    "b=np.array([1,2,3])"
   ]
  },
  {
   "cell_type": "code",
   "execution_count": 169,
   "id": "465cff63",
   "metadata": {},
   "outputs": [
    {
     "data": {
      "text/plain": [
       "array(['1', '2', '3'], dtype='<U11')"
      ]
     },
     "execution_count": 169,
     "metadata": {},
     "output_type": "execute_result"
    }
   ],
   "source": [
    "b.astype(\"str\")"
   ]
  },
  {
   "cell_type": "code",
   "execution_count": 170,
   "id": "11117e6f",
   "metadata": {},
   "outputs": [
    {
     "data": {
      "text/plain": [
       "array([1., 2., 3.], dtype=float32)"
      ]
     },
     "execution_count": 170,
     "metadata": {},
     "output_type": "execute_result"
    }
   ],
   "source": [
    "b.astype(\"f\")"
   ]
  },
  {
   "cell_type": "code",
   "execution_count": 171,
   "id": "eed6d248",
   "metadata": {},
   "outputs": [
    {
     "data": {
      "text/plain": [
       "127"
      ]
     },
     "execution_count": 171,
     "metadata": {},
     "output_type": "execute_result"
    }
   ],
   "source": [
    "np.iinfo(np.int8).max"
   ]
  },
  {
   "cell_type": "code",
   "execution_count": 172,
   "id": "b0976680",
   "metadata": {},
   "outputs": [
    {
     "data": {
      "text/plain": [
       "-128"
      ]
     },
     "execution_count": 172,
     "metadata": {},
     "output_type": "execute_result"
    }
   ],
   "source": [
    "np.iinfo(np.int8).min"
   ]
  },
  {
   "cell_type": "code",
   "execution_count": null,
   "id": "46624270",
   "metadata": {},
   "outputs": [],
   "source": []
  }
 ],
 "metadata": {
  "kernelspec": {
   "display_name": "Python 3 (ipykernel)",
   "language": "python",
   "name": "python3"
  },
  "language_info": {
   "codemirror_mode": {
    "name": "ipython",
    "version": 3
   },
   "file_extension": ".py",
   "mimetype": "text/x-python",
   "name": "python",
   "nbconvert_exporter": "python",
   "pygments_lexer": "ipython3",
   "version": "3.11.3"
  }
 },
 "nbformat": 4,
 "nbformat_minor": 5
}
