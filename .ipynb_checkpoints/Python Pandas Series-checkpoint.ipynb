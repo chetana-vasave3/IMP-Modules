{
 "cells": [
  {
   "cell_type": "markdown",
   "id": "b8dc8fef",
   "metadata": {},
   "source": [
    "## 1.Pandas Series"
   ]
  },
  {
   "cell_type": "markdown",
   "id": "52de322c",
   "metadata": {},
   "source": [
    "    A pandas series is like a column in table \n",
    "    Its a one-dimensional arry holding data of any type "
   ]
  },
  {
   "cell_type": "code",
   "execution_count": 1,
   "id": "ff783211",
   "metadata": {},
   "outputs": [],
   "source": [
    "import pandas as pd"
   ]
  },
  {
   "cell_type": "code",
   "execution_count": 2,
   "id": "ab1cfc3e",
   "metadata": {},
   "outputs": [
    {
     "data": {
      "text/plain": [
       "'1.5.3'"
      ]
     },
     "execution_count": 2,
     "metadata": {},
     "output_type": "execute_result"
    }
   ],
   "source": [
    "(pd.__version__)     #version of pandas "
   ]
  },
  {
   "cell_type": "code",
   "execution_count": 7,
   "id": "d1e4b236",
   "metadata": {},
   "outputs": [],
   "source": [
    "import numpy as np"
   ]
  },
  {
   "cell_type": "code",
   "execution_count": 8,
   "id": "58e1612b",
   "metadata": {},
   "outputs": [
    {
     "data": {
      "text/plain": [
       "'1.24.3'"
      ]
     },
     "execution_count": 8,
     "metadata": {},
     "output_type": "execute_result"
    }
   ],
   "source": [
    "(np.__version__)     #version of numpy"
   ]
  },
  {
   "cell_type": "markdown",
   "id": "6945281e",
   "metadata": {},
   "source": [
    "##### How to make empty series"
   ]
  },
  {
   "cell_type": "code",
   "execution_count": 10,
   "id": "b63a0dbb",
   "metadata": {},
   "outputs": [
    {
     "name": "stdout",
     "output_type": "stream",
     "text": [
      "Series([], dtype: float64)\n",
      "<class 'pandas.core.series.Series'>\n"
     ]
    },
    {
     "name": "stderr",
     "output_type": "stream",
     "text": [
      "C:\\Users\\ipcs nagpur\\AppData\\Local\\Temp\\ipykernel_12304\\2584896284.py:1: FutureWarning: The default dtype for empty Series will be 'object' instead of 'float64' in a future version. Specify a dtype explicitly to silence this warning.\n",
      "  a=pd.Series()\n"
     ]
    }
   ],
   "source": [
    "a=pd.Series()\n",
    "print(a)\n",
    "print(type(a))"
   ]
  },
  {
   "cell_type": "code",
   "execution_count": 11,
   "id": "9662bc0a",
   "metadata": {},
   "outputs": [
    {
     "data": {
      "text/plain": [
       "Series([], dtype: float64)"
      ]
     },
     "execution_count": 11,
     "metadata": {},
     "output_type": "execute_result"
    }
   ],
   "source": [
    "a"
   ]
  },
  {
   "cell_type": "markdown",
   "id": "10c62ec0",
   "metadata": {},
   "source": [
    "##### How to make Series from list"
   ]
  },
  {
   "cell_type": "code",
   "execution_count": 13,
   "id": "8cad8481",
   "metadata": {},
   "outputs": [
    {
     "name": "stdout",
     "output_type": "stream",
     "text": [
      "a     virat\n",
      "b     Dhoni\n",
      "c    Hardik\n",
      "Name: Cricketers, dtype: object\n"
     ]
    }
   ],
   "source": [
    "b=pd.Series([\"virat\",\"Dhoni\",\"Hardik\"],index=[\"a\",\"b\",\"c\"],name=\"Cricketers\")\n",
    "print(b)"
   ]
  },
  {
   "cell_type": "code",
   "execution_count": 14,
   "id": "37d0c66c",
   "metadata": {},
   "outputs": [
    {
     "name": "stdout",
     "output_type": "stream",
     "text": [
      "0     50\n",
      "1    100\n",
      "2    200\n",
      "Name: Runs, dtype: object\n"
     ]
    }
   ],
   "source": [
    "c=pd.Series([\"50\",\"100\",\"200\"],name=\"Runs\")\n",
    "print(c)"
   ]
  },
  {
   "cell_type": "code",
   "execution_count": 15,
   "id": "b9347238",
   "metadata": {},
   "outputs": [
    {
     "name": "stdout",
     "output_type": "stream",
     "text": [
      "0    RCB\n",
      "1     MI\n",
      "2    KKR\n",
      "Name: Team, dtype: object\n"
     ]
    }
   ],
   "source": [
    "d=pd.Series([\"RCB\",\"MI\",\"KKR\"],name=\"Team\")\n",
    "print(d)"
   ]
  },
  {
   "cell_type": "markdown",
   "id": "9c6ec681",
   "metadata": {},
   "source": [
    "##### How to make series from nd array\n",
    "list--->array-->sries"
   ]
  },
  {
   "cell_type": "code",
   "execution_count": 17,
   "id": "d5d5955f",
   "metadata": {},
   "outputs": [
    {
     "data": {
      "text/plain": [
       "0    a\n",
       "1    b\n",
       "2    c\n",
       "dtype: object"
      ]
     },
     "execution_count": 17,
     "metadata": {},
     "output_type": "execute_result"
    }
   ],
   "source": [
    "import numpy as np\n",
    "my_array=np.array([\"a\",\"b\",\"c\"])\n",
    "my_array\n",
    "\n",
    "s1=pd.Series(my_array)\n",
    "s1"
   ]
  },
  {
   "cell_type": "markdown",
   "id": "7e1dbed4",
   "metadata": {},
   "source": [
    "##### How to make series drom Dictionary"
   ]
  },
  {
   "cell_type": "code",
   "execution_count": 18,
   "id": "02996d25",
   "metadata": {},
   "outputs": [
    {
     "data": {
      "text/plain": [
       "Name              Dhoni\n",
       "profession    Cricketer\n",
       "Age                  41\n",
       "dtype: object"
      ]
     },
     "execution_count": 18,
     "metadata": {},
     "output_type": "execute_result"
    }
   ],
   "source": [
    "my_dict={\"Name\":\"Dhoni\",\"profession\":\"Cricketer\",\"Age\":41}\n",
    "my_dict\n",
    "\n",
    "s2=pd.Series(my_dict)\n",
    "s2"
   ]
  },
  {
   "cell_type": "code",
   "execution_count": 20,
   "id": "923dafd4",
   "metadata": {},
   "outputs": [
    {
     "data": {
      "text/plain": [
       "1        Dhoni\n",
       "2    Cricketer\n",
       "3           41\n",
       "dtype: object"
      ]
     },
     "execution_count": 20,
     "metadata": {},
     "output_type": "execute_result"
    }
   ],
   "source": [
    "my_dict={1:\"Dhoni\",2:\"Cricketer\",3:41}\n",
    "my_dict\n",
    "\n",
    "s2=pd.Series(my_dict)\n",
    "s2"
   ]
  },
  {
   "cell_type": "markdown",
   "id": "ecc91829",
   "metadata": {},
   "source": [
    "##### Create Series using Tuple"
   ]
  },
  {
   "cell_type": "code",
   "execution_count": 21,
   "id": "a7092cef",
   "metadata": {},
   "outputs": [
    {
     "name": "stdout",
     "output_type": "stream",
     "text": [
      "0    1\n",
      "1    2\n",
      "2    3\n",
      "3    4\n",
      "4    5\n",
      "dtype: int64\n"
     ]
    }
   ],
   "source": [
    "t=(1,2,3,4,5)\n",
    "s=pd.Series(t)\n",
    "print(s)"
   ]
  },
  {
   "cell_type": "markdown",
   "id": "68220919",
   "metadata": {},
   "source": [
    "##### Create Series from set"
   ]
  },
  {
   "cell_type": "code",
   "execution_count": 22,
   "id": "7e6ee5bf",
   "metadata": {},
   "outputs": [
    {
     "ename": "TypeError",
     "evalue": "'set' type is unordered",
     "output_type": "error",
     "traceback": [
      "\u001b[1;31m---------------------------------------------------------------------------\u001b[0m",
      "\u001b[1;31mTypeError\u001b[0m                                 Traceback (most recent call last)",
      "Cell \u001b[1;32mIn[22], line 2\u001b[0m\n\u001b[0;32m      1\u001b[0m s\u001b[38;5;241m=\u001b[39m{\u001b[38;5;241m1\u001b[39m,\u001b[38;5;241m2\u001b[39m,\u001b[38;5;241m3\u001b[39m,\u001b[38;5;241m4\u001b[39m,\u001b[38;5;241m5\u001b[39m,\u001b[38;5;124m\"\u001b[39m\u001b[38;5;124mgauri\u001b[39m\u001b[38;5;124m\"\u001b[39m}\n\u001b[1;32m----> 2\u001b[0m x\u001b[38;5;241m=\u001b[39mpd\u001b[38;5;241m.\u001b[39mSeries(s)\n",
      "File \u001b[1;32m~\\AppData\\Local\\anaconda3\\Lib\\site-packages\\pandas\\core\\series.py:470\u001b[0m, in \u001b[0;36mSeries.__init__\u001b[1;34m(self, data, index, dtype, name, copy, fastpath)\u001b[0m\n\u001b[0;32m    468\u001b[0m         data \u001b[38;5;241m=\u001b[39m data\u001b[38;5;241m.\u001b[39mcopy()\n\u001b[0;32m    469\u001b[0m \u001b[38;5;28;01melse\u001b[39;00m:\n\u001b[1;32m--> 470\u001b[0m     data \u001b[38;5;241m=\u001b[39m sanitize_array(data, index, dtype, copy)\n\u001b[0;32m    472\u001b[0m     manager \u001b[38;5;241m=\u001b[39m get_option(\u001b[38;5;124m\"\u001b[39m\u001b[38;5;124mmode.data_manager\u001b[39m\u001b[38;5;124m\"\u001b[39m)\n\u001b[0;32m    473\u001b[0m     \u001b[38;5;28;01mif\u001b[39;00m manager \u001b[38;5;241m==\u001b[39m \u001b[38;5;124m\"\u001b[39m\u001b[38;5;124mblock\u001b[39m\u001b[38;5;124m\"\u001b[39m:\n",
      "File \u001b[1;32m~\\AppData\\Local\\anaconda3\\Lib\\site-packages\\pandas\\core\\construction.py:611\u001b[0m, in \u001b[0;36msanitize_array\u001b[1;34m(data, index, dtype, copy, raise_cast_failure, allow_2d)\u001b[0m\n\u001b[0;32m    608\u001b[0m \u001b[38;5;28;01melse\u001b[39;00m:\n\u001b[0;32m    609\u001b[0m     \u001b[38;5;28;01mif\u001b[39;00m \u001b[38;5;28misinstance\u001b[39m(data, (\u001b[38;5;28mset\u001b[39m, \u001b[38;5;28mfrozenset\u001b[39m)):\n\u001b[0;32m    610\u001b[0m         \u001b[38;5;66;03m# Raise only for unordered sets, e.g., not for dict_keys\u001b[39;00m\n\u001b[1;32m--> 611\u001b[0m         \u001b[38;5;28;01mraise\u001b[39;00m \u001b[38;5;167;01mTypeError\u001b[39;00m(\u001b[38;5;124mf\u001b[39m\u001b[38;5;124m\"\u001b[39m\u001b[38;5;124m'\u001b[39m\u001b[38;5;132;01m{\u001b[39;00m\u001b[38;5;28mtype\u001b[39m(data)\u001b[38;5;241m.\u001b[39m\u001b[38;5;18m__name__\u001b[39m\u001b[38;5;132;01m}\u001b[39;00m\u001b[38;5;124m'\u001b[39m\u001b[38;5;124m type is unordered\u001b[39m\u001b[38;5;124m\"\u001b[39m)\n\u001b[0;32m    613\u001b[0m     \u001b[38;5;66;03m# materialize e.g. generators, convert e.g. tuples, abc.ValueView\u001b[39;00m\n\u001b[0;32m    614\u001b[0m     \u001b[38;5;28;01mif\u001b[39;00m \u001b[38;5;28mhasattr\u001b[39m(data, \u001b[38;5;124m\"\u001b[39m\u001b[38;5;124m__array__\u001b[39m\u001b[38;5;124m\"\u001b[39m):\n\u001b[0;32m    615\u001b[0m         \u001b[38;5;66;03m# e.g. dask array GH#38645\u001b[39;00m\n",
      "\u001b[1;31mTypeError\u001b[0m: 'set' type is unordered"
     ]
    }
   ],
   "source": [
    "s={1,2,3,4,5,\"gauri\"}\n",
    "x=pd.Series(s)\n",
    "\n",
    "#s3=pd.Series({\"a\",\"b\",\"c\"})\n",
    "#s3\n",
    "#error\n",
    "#we cannot make series from set\n"
   ]
  },
  {
   "cell_type": "markdown",
   "id": "cd10100f",
   "metadata": {},
   "source": [
    "##### Attribute of Series"
   ]
  },
  {
   "cell_type": "code",
   "execution_count": 24,
   "id": "1a881844",
   "metadata": {},
   "outputs": [
    {
     "name": "stdout",
     "output_type": "stream",
     "text": [
      "a     virat\n",
      "b     Dhoni\n",
      "c    Hardik\n",
      "d    Sachin\n",
      "Name: cricketer, dtype: object\n"
     ]
    }
   ],
   "source": [
    "b=pd.Series([\"virat\",\"Dhoni\",\"Hardik\",\"Sachin\"],index=[\"a\",\"b\",\"c\",\"d\"],name=\"cricketer\")\n",
    "print(b)"
   ]
  },
  {
   "cell_type": "markdown",
   "id": "9d090ebf",
   "metadata": {},
   "source": [
    "#### 1.Index"
   ]
  },
  {
   "cell_type": "markdown",
   "id": "7f9520ba",
   "metadata": {},
   "source": [
    "Return all the index values"
   ]
  },
  {
   "cell_type": "code",
   "execution_count": 27,
   "id": "ae53e035",
   "metadata": {},
   "outputs": [
    {
     "data": {
      "text/plain": [
       "Index(['a', 'b', 'c', 'd'], dtype='object')"
      ]
     },
     "execution_count": 27,
     "metadata": {},
     "output_type": "execute_result"
    }
   ],
   "source": [
    "b.index"
   ]
  },
  {
   "cell_type": "markdown",
   "id": "08933df0",
   "metadata": {},
   "source": [
    "#### 2.Array"
   ]
  },
  {
   "cell_type": "markdown",
   "id": "4a310c2d",
   "metadata": {},
   "source": [
    "Returns an array values"
   ]
  },
  {
   "cell_type": "code",
   "execution_count": 29,
   "id": "8bb00b21",
   "metadata": {},
   "outputs": [
    {
     "name": "stdout",
     "output_type": "stream",
     "text": [
      "<PandasArray>\n",
      "['virat', 'Dhoni', 'Hardik', 'Sachin']\n",
      "Length: 4, dtype: object\n"
     ]
    }
   ],
   "source": [
    "b_new=b.array\n",
    "print(b_new)"
   ]
  },
  {
   "cell_type": "code",
   "execution_count": 30,
   "id": "296992ae",
   "metadata": {},
   "outputs": [
    {
     "data": {
      "text/plain": [
       "pandas.core.arrays.numpy_.PandasArray"
      ]
     },
     "execution_count": 30,
     "metadata": {},
     "output_type": "execute_result"
    }
   ],
   "source": [
    "type(b_new)"
   ]
  },
  {
   "cell_type": "code",
   "execution_count": 31,
   "id": "31b8debe",
   "metadata": {},
   "outputs": [
    {
     "data": {
      "text/plain": [
       "pandas.core.series.Series"
      ]
     },
     "execution_count": 31,
     "metadata": {},
     "output_type": "execute_result"
    }
   ],
   "source": [
    "type(b)"
   ]
  },
  {
   "cell_type": "markdown",
   "id": "06a51216",
   "metadata": {},
   "source": [
    "#### 3.Values"
   ]
  },
  {
   "cell_type": "markdown",
   "id": "c07924e3",
   "metadata": {},
   "source": [
    "Returns values of series"
   ]
  },
  {
   "cell_type": "code",
   "execution_count": 32,
   "id": "4ec21399",
   "metadata": {},
   "outputs": [
    {
     "data": {
      "text/plain": [
       "array(['virat', 'Dhoni', 'Hardik', 'Sachin'], dtype=object)"
      ]
     },
     "execution_count": 32,
     "metadata": {},
     "output_type": "execute_result"
    }
   ],
   "source": [
    "b.values"
   ]
  },
  {
   "cell_type": "markdown",
   "id": "e5b3dddb",
   "metadata": {},
   "source": [
    "#### 4.Name"
   ]
  },
  {
   "cell_type": "markdown",
   "id": "ff3c9d02",
   "metadata": {},
   "source": [
    "Returns name of series"
   ]
  },
  {
   "cell_type": "code",
   "execution_count": 35,
   "id": "b89053a5",
   "metadata": {},
   "outputs": [
    {
     "data": {
      "text/plain": [
       "'cricketer'"
      ]
     },
     "execution_count": 35,
     "metadata": {},
     "output_type": "execute_result"
    }
   ],
   "source": [
    "b.name"
   ]
  },
  {
   "cell_type": "code",
   "execution_count": 41,
   "id": "52b12ebb",
   "metadata": {},
   "outputs": [
    {
     "name": "stdout",
     "output_type": "stream",
     "text": [
      "0     1\n",
      "1     2\n",
      "2     4\n",
      "3     5\n",
      "4    45\n",
      "5     6\n",
      "6    84\n",
      "Name: abc, dtype: int64\n"
     ]
    }
   ],
   "source": [
    "v=[1,2,4,5,45,6,84]\n",
    "s=pd.Series(v,name=\"abc\")\n",
    "print(s)"
   ]
  },
  {
   "cell_type": "code",
   "execution_count": 43,
   "id": "9ab83f95",
   "metadata": {},
   "outputs": [
    {
     "data": {
      "text/plain": [
       "'abc'"
      ]
     },
     "execution_count": 43,
     "metadata": {},
     "output_type": "execute_result"
    }
   ],
   "source": [
    "s.name"
   ]
  },
  {
   "cell_type": "markdown",
   "id": "222e8c14",
   "metadata": {},
   "source": [
    "#### 5.Shape"
   ]
  },
  {
   "cell_type": "markdown",
   "id": "1da0fd76",
   "metadata": {},
   "source": [
    "Return shape of series"
   ]
  },
  {
   "cell_type": "code",
   "execution_count": 44,
   "id": "cad9e31b",
   "metadata": {},
   "outputs": [
    {
     "data": {
      "text/plain": [
       "(4,)"
      ]
     },
     "execution_count": 44,
     "metadata": {},
     "output_type": "execute_result"
    }
   ],
   "source": [
    "b.shape\n",
    "#it has 3 rows"
   ]
  },
  {
   "cell_type": "code",
   "execution_count": 45,
   "id": "4a60a334",
   "metadata": {},
   "outputs": [
    {
     "data": {
      "text/plain": [
       "(7,)"
      ]
     },
     "execution_count": 45,
     "metadata": {},
     "output_type": "execute_result"
    }
   ],
   "source": [
    "s.shape"
   ]
  },
  {
   "cell_type": "markdown",
   "id": "6dd48d21",
   "metadata": {},
   "source": [
    "#### 6.empty"
   ]
  },
  {
   "cell_type": "markdown",
   "id": "0ffc54db",
   "metadata": {},
   "source": [
    "Returns True if series is empty"
   ]
  },
  {
   "cell_type": "code",
   "execution_count": 47,
   "id": "50160b4d",
   "metadata": {},
   "outputs": [
    {
     "data": {
      "text/plain": [
       "False"
      ]
     },
     "execution_count": 47,
     "metadata": {},
     "output_type": "execute_result"
    }
   ],
   "source": [
    "b.empty"
   ]
  },
  {
   "cell_type": "code",
   "execution_count": 48,
   "id": "ec6eb4f7",
   "metadata": {},
   "outputs": [
    {
     "data": {
      "text/plain": [
       "False"
      ]
     },
     "execution_count": 48,
     "metadata": {},
     "output_type": "execute_result"
    }
   ],
   "source": [
    "s.empty"
   ]
  },
  {
   "cell_type": "code",
   "execution_count": 49,
   "id": "d678a87b",
   "metadata": {},
   "outputs": [
    {
     "name": "stderr",
     "output_type": "stream",
     "text": [
      "C:\\Users\\ipcs nagpur\\AppData\\Local\\Temp\\ipykernel_12304\\2907974055.py:1: FutureWarning: The default dtype for empty Series will be 'object' instead of 'float64' in a future version. Specify a dtype explicitly to silence this warning.\n",
      "  empty_series=pd.Series()\n"
     ]
    }
   ],
   "source": [
    "empty_series=pd.Series()"
   ]
  },
  {
   "cell_type": "code",
   "execution_count": 50,
   "id": "c368e73f",
   "metadata": {},
   "outputs": [
    {
     "data": {
      "text/plain": [
       "True"
      ]
     },
     "execution_count": 50,
     "metadata": {},
     "output_type": "execute_result"
    }
   ],
   "source": [
    "empty_series.empty"
   ]
  },
  {
   "cell_type": "markdown",
   "id": "2e6d2da9",
   "metadata": {},
   "source": [
    "#### 7.Memory_usage(method or function)"
   ]
  },
  {
   "cell_type": "markdown",
   "id": "cf6286b8",
   "metadata": {},
   "source": [
    "Returns memory ocupied by values and index"
   ]
  },
  {
   "cell_type": "code",
   "execution_count": 51,
   "id": "86f118e5",
   "metadata": {},
   "outputs": [
    {
     "data": {
      "text/plain": [
       "236"
      ]
     },
     "execution_count": 51,
     "metadata": {},
     "output_type": "execute_result"
    }
   ],
   "source": [
    "b.memory_usage()"
   ]
  },
  {
   "cell_type": "code",
   "execution_count": 52,
   "id": "c947bbea",
   "metadata": {},
   "outputs": [
    {
     "data": {
      "text/plain": [
       "188"
      ]
     },
     "execution_count": 52,
     "metadata": {},
     "output_type": "execute_result"
    }
   ],
   "source": [
    "s.memory_usage()"
   ]
  },
  {
   "cell_type": "code",
   "execution_count": 53,
   "id": "fe8c91a8",
   "metadata": {},
   "outputs": [
    {
     "data": {
      "text/plain": [
       "0"
      ]
     },
     "execution_count": 53,
     "metadata": {},
     "output_type": "execute_result"
    }
   ],
   "source": [
    "empty_series.memory_usage()"
   ]
  },
  {
   "cell_type": "markdown",
   "id": "393a1363",
   "metadata": {},
   "source": [
    "#### 8.nbytes"
   ]
  },
  {
   "cell_type": "markdown",
   "id": "465ebca9",
   "metadata": {},
   "source": [
    "Returns memory occupied values"
   ]
  },
  {
   "cell_type": "code",
   "execution_count": 54,
   "id": "c31ecd64",
   "metadata": {},
   "outputs": [
    {
     "data": {
      "text/plain": [
       "32"
      ]
     },
     "execution_count": 54,
     "metadata": {},
     "output_type": "execute_result"
    }
   ],
   "source": [
    "b.nbytes"
   ]
  },
  {
   "cell_type": "code",
   "execution_count": 55,
   "id": "acd0f67c",
   "metadata": {},
   "outputs": [
    {
     "data": {
      "text/plain": [
       "0"
      ]
     },
     "execution_count": 55,
     "metadata": {},
     "output_type": "execute_result"
    }
   ],
   "source": [
    "empty_series.nbytes"
   ]
  },
  {
   "cell_type": "markdown",
   "id": "5dec5507",
   "metadata": {},
   "source": [
    "##### Series from list of tuples"
   ]
  },
  {
   "cell_type": "code",
   "execution_count": 56,
   "id": "acffdeb0",
   "metadata": {},
   "outputs": [
    {
     "data": {
      "text/plain": [
       "0    (1, 0)\n",
       "1    (2, 0)\n",
       "2    (3, 0)\n",
       "dtype: object"
      ]
     },
     "execution_count": 56,
     "metadata": {},
     "output_type": "execute_result"
    }
   ],
   "source": [
    "s4=pd.Series([(1,0),(2,0),(3,0)])\n",
    "s4"
   ]
  },
  {
   "cell_type": "markdown",
   "id": "fc849521",
   "metadata": {},
   "source": [
    "##### Mathematical Operations on series"
   ]
  },
  {
   "cell_type": "code",
   "execution_count": 58,
   "id": "d09adf69",
   "metadata": {},
   "outputs": [
    {
     "data": {
      "text/plain": [
       "0    10\n",
       "1    20\n",
       "2    30\n",
       "dtype: int64"
      ]
     },
     "execution_count": 58,
     "metadata": {},
     "output_type": "execute_result"
    }
   ],
   "source": [
    "s1=pd.Series([10,20,30])\n",
    "s1"
   ]
  },
  {
   "cell_type": "code",
   "execution_count": 59,
   "id": "d953ffa2",
   "metadata": {},
   "outputs": [
    {
     "data": {
      "text/plain": [
       "0     5\n",
       "1    15\n",
       "2    25\n",
       "dtype: int64"
      ]
     },
     "execution_count": 59,
     "metadata": {},
     "output_type": "execute_result"
    }
   ],
   "source": [
    "s2=pd.Series([5,15,25])\n",
    "s2"
   ]
  },
  {
   "cell_type": "code",
   "execution_count": 60,
   "id": "a5b9ec57",
   "metadata": {},
   "outputs": [
    {
     "data": {
      "text/plain": [
       "0    15\n",
       "1    35\n",
       "2    55\n",
       "dtype: int64"
      ]
     },
     "execution_count": 60,
     "metadata": {},
     "output_type": "execute_result"
    }
   ],
   "source": [
    "s1+s2"
   ]
  },
  {
   "cell_type": "code",
   "execution_count": 61,
   "id": "282c4f93",
   "metadata": {},
   "outputs": [
    {
     "data": {
      "text/plain": [
       "0    15\n",
       "1    35\n",
       "2    55\n",
       "dtype: int64"
      ]
     },
     "execution_count": 61,
     "metadata": {},
     "output_type": "execute_result"
    }
   ],
   "source": [
    "#add\n",
    "s1.add(s2)"
   ]
  },
  {
   "cell_type": "code",
   "execution_count": 62,
   "id": "382e5b21",
   "metadata": {},
   "outputs": [
    {
     "data": {
      "text/plain": [
       "0    5\n",
       "1    5\n",
       "2    5\n",
       "dtype: int64"
      ]
     },
     "execution_count": 62,
     "metadata": {},
     "output_type": "execute_result"
    }
   ],
   "source": [
    "#sub\n",
    "s1.subtract(s2)"
   ]
  },
  {
   "cell_type": "code",
   "execution_count": 63,
   "id": "50ce9b75",
   "metadata": {},
   "outputs": [
    {
     "data": {
      "text/plain": [
       "0     50\n",
       "1    300\n",
       "2    750\n",
       "dtype: int64"
      ]
     },
     "execution_count": 63,
     "metadata": {},
     "output_type": "execute_result"
    }
   ],
   "source": [
    "#mul\n",
    "s1.multiply(s2)"
   ]
  },
  {
   "cell_type": "code",
   "execution_count": 64,
   "id": "d019ddec",
   "metadata": {},
   "outputs": [
    {
     "data": {
      "text/plain": [
       "0    2.000000\n",
       "1    1.333333\n",
       "2    1.200000\n",
       "dtype: float64"
      ]
     },
     "execution_count": 64,
     "metadata": {},
     "output_type": "execute_result"
    }
   ],
   "source": [
    "#div\n",
    "s1.divide(s2)"
   ]
  },
  {
   "cell_type": "code",
   "execution_count": 65,
   "id": "8291b12c",
   "metadata": {},
   "outputs": [
    {
     "data": {
      "text/plain": [
       "0    0\n",
       "1    5\n",
       "2    5\n",
       "dtype: int64"
      ]
     },
     "execution_count": 65,
     "metadata": {},
     "output_type": "execute_result"
    }
   ],
   "source": [
    "#modules\n",
    "s1.mod(s2)"
   ]
  },
  {
   "cell_type": "code",
   "execution_count": 66,
   "id": "1e2cb1be",
   "metadata": {},
   "outputs": [
    {
     "data": {
      "text/plain": [
       "0                 100000\n",
       "1   -4125488147419103232\n",
       "2    8896730407173619712\n",
       "dtype: int64"
      ]
     },
     "execution_count": 66,
     "metadata": {},
     "output_type": "execute_result"
    }
   ],
   "source": [
    "#power\n",
    "s1.pow(s2)"
   ]
  },
  {
   "cell_type": "code",
   "execution_count": 67,
   "id": "0e517775",
   "metadata": {},
   "outputs": [
    {
     "data": {
      "text/plain": [
       "0    100\n",
       "1    400\n",
       "2    900\n",
       "dtype: int64"
      ]
     },
     "execution_count": 67,
     "metadata": {},
     "output_type": "execute_result"
    }
   ],
   "source": [
    "s1.pow(2)"
   ]
  },
  {
   "cell_type": "code",
   "execution_count": 68,
   "id": "2b0e077e",
   "metadata": {},
   "outputs": [
    {
     "data": {
      "text/plain": [
       "0    False\n",
       "1    False\n",
       "2    False\n",
       "dtype: bool"
      ]
     },
     "execution_count": 68,
     "metadata": {},
     "output_type": "execute_result"
    }
   ],
   "source": [
    "#less than\n",
    "s1.le(s2)"
   ]
  },
  {
   "cell_type": "code",
   "execution_count": 69,
   "id": "30ab370a",
   "metadata": {},
   "outputs": [
    {
     "data": {
      "text/plain": [
       "0    True\n",
       "1    True\n",
       "2    True\n",
       "dtype: bool"
      ]
     },
     "execution_count": 69,
     "metadata": {},
     "output_type": "execute_result"
    }
   ],
   "source": [
    "#greater than\n",
    "s1.gt(s2)"
   ]
  },
  {
   "cell_type": "code",
   "execution_count": 70,
   "id": "7c76fe2e",
   "metadata": {},
   "outputs": [
    {
     "data": {
      "text/plain": [
       "True"
      ]
     },
     "execution_count": 70,
     "metadata": {},
     "output_type": "execute_result"
    }
   ],
   "source": [
    "#equal\n",
    "s3=pd.Series([5,15,25])\n",
    "s4=pd.Series([5,15,25])\n",
    "s3.equals(s4)"
   ]
  },
  {
   "cell_type": "code",
   "execution_count": 73,
   "id": "1aad3e30",
   "metadata": {},
   "outputs": [
    {
     "data": {
      "text/plain": [
       "0    10.0\n",
       "1    30.0\n",
       "2    50.0\n",
       "3     NaN\n",
       "dtype: float64"
      ]
     },
     "execution_count": 73,
     "metadata": {},
     "output_type": "execute_result"
    }
   ],
   "source": [
    "s3=pd.Series([5,15,25,50])\n",
    "s4=pd.Series([5,15,25])\n",
    "s3.add(s4)"
   ]
  },
  {
   "cell_type": "code",
   "execution_count": 74,
   "id": "145651f7",
   "metadata": {},
   "outputs": [
    {
     "data": {
      "text/plain": [
       "0    (1, 0, 1, 0)\n",
       "1    (2, 0, 2, 0)\n",
       "2    (3, 0, 3, 0)\n",
       "dtype: object"
      ]
     },
     "execution_count": 74,
     "metadata": {},
     "output_type": "execute_result"
    }
   ],
   "source": [
    "s4=pd.Series([(1,0),(2,0),(3,0)])\n",
    "s5=pd.Series([(1,0),(2,0),(3,0)])\n",
    "s4.add(s5)"
   ]
  },
  {
   "cell_type": "code",
   "execution_count": null,
   "id": "2ec45c09",
   "metadata": {},
   "outputs": [],
   "source": []
  }
 ],
 "metadata": {
  "kernelspec": {
   "display_name": "Python 3 (ipykernel)",
   "language": "python",
   "name": "python3"
  },
  "language_info": {
   "codemirror_mode": {
    "name": "ipython",
    "version": 3
   },
   "file_extension": ".py",
   "mimetype": "text/x-python",
   "name": "python",
   "nbconvert_exporter": "python",
   "pygments_lexer": "ipython3",
   "version": "3.11.3"
  }
 },
 "nbformat": 4,
 "nbformat_minor": 5
}
